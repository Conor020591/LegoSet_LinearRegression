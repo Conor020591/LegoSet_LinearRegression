{
 "cells": [
  {
   "cell_type": "markdown",
   "id": "c32d51b2",
   "metadata": {},
   "source": [
    "# Predicting Lego Set Prices\n",
    "As new lego sets approach release, there are rumors and leaks, sometimes containing all of the details of the set.\n",
    "The objective of this model is to be able to predict as accurately as possible, from the available information what hte price of these sets is going to be."
   ]
  },
  {
   "cell_type": "code",
   "execution_count": 4,
   "id": "c8e79010",
   "metadata": {},
   "outputs": [
    {
     "name": "stdout",
     "output_type": "stream",
     "text": [
      "imported\n"
     ]
    }
   ],
   "source": [
    "#Imports\n",
    "import numpy as np\n",
    "import pandas as pd\n",
    "import sklearn\n",
    "from sklearn.model_selection import train_test_split\n",
    "from sklearn.linear_model import LinearRegression\n",
    "from sklearn.metrics import r2_score\n",
    "from sklearn.metrics import mean_squared_error\n",
    "from sklearn.metrics import mean_absolute_error\n",
    "from sklearn import preprocessing\n",
    "from sklearn.pipeline import Pipeline\n",
    "from sklearn.compose import ColumnTransformer\n",
    "from sklearn.model_selection import cross_validate\n",
    "from sklearn.model_selection import cross_val_score\n",
    "from sklearn.preprocessing import OneHotEncoder\n",
    "import matplotlib.pyplot as plt\n",
    "import category_encoders as ce\n",
    "from category_encoders import BinaryEncoder\n",
    "print('imported')"
   ]
  },
  {
   "cell_type": "markdown",
   "id": "9968716c",
   "metadata": {},
   "source": [
    "Here we import the data generated from the LegoEDA project."
   ]
  },
  {
   "cell_type": "code",
   "execution_count": 5,
   "id": "0a874c97",
   "metadata": {},
   "outputs": [
    {
     "data": {
      "text/plain": [
       "<bound method NDFrame.head of       Unnamed: 0 Set_number                       Name Set_type       Theme  \\\n",
       "0            212      702-2            Small Basic Set   Normal   SAMSONITE   \n",
       "1            217      717-1         Junior Constructor   Normal   SAMSONITE   \n",
       "2            218      725-3                  Town Plan   Normal   SAMSONITE   \n",
       "3            279      450-2        Deluxe Building Set   Normal   SAMSONITE   \n",
       "4            281      615-1         Samsonite Gift Set   Normal   SAMSONITE   \n",
       "...          ...        ...                        ...      ...         ...   \n",
       "6787       19108    80043-1       Yellow Tusk Elephant   Normal  MONKIE KID   \n",
       "6788       19109    80044-1  Monkie Kid's Team Hideout   Normal  MONKIE KID   \n",
       "6789       19110    80045-1     Monkey King Ultra Mech   Normal  MONKIE KID   \n",
       "6790       19111    80110-1     Lunar New Year Display   Normal    SEASONAL   \n",
       "6791       19112    80111-1      Lunar New Year Parade   Normal    SEASONAL   \n",
       "\n",
       "           Theme_group                       Subtheme  Year_released  Pieces  \\\n",
       "0              Vintage                      BASIC SET         1961.0   109.0   \n",
       "1              Vintage                      BASIC SET         1961.0   510.0   \n",
       "2              Vintage                      TOWN PLAN         1961.0   711.0   \n",
       "3              Vintage                      BASIC SET         1963.0   450.0   \n",
       "4              Vintage                      BASIC SET         1963.0   615.0   \n",
       "...                ...                            ...            ...     ...   \n",
       "6787  Action/Adventure                       SEASON 4         2023.0   844.0   \n",
       "6788  Action/Adventure                       SEASON 4         2023.0  1582.0   \n",
       "6789  Action/Adventure                       SEASON 4         2023.0  1705.0   \n",
       "6790     Miscellaneous  CHINESE TRADITIONAL FESTIVALS         2023.0   872.0   \n",
       "6791     Miscellaneous  CHINESE TRADITIONAL FESTIVALS         2023.0  1653.0   \n",
       "\n",
       "      Minifigs   Price Age_range  \n",
       "0          0.0    1.95       NaN  \n",
       "1          0.0   16.95       NaN  \n",
       "2          0.0   25.00       NaN  \n",
       "3          0.0   10.95     4 - 9  \n",
       "4          0.0   14.95    5 - 10  \n",
       "...        ...     ...       ...  \n",
       "6787       5.0   79.99        8+  \n",
       "6788       6.0  139.99        9+  \n",
       "6789       6.0  159.99       10+  \n",
       "6790       0.0   89.99        8+  \n",
       "6791      18.0  129.99        8+  \n",
       "\n",
       "[6792 rows x 12 columns]>"
      ]
     },
     "execution_count": 5,
     "metadata": {},
     "output_type": "execute_result"
    }
   ],
   "source": [
    "#read in clean data\n",
    "lego_mod_df = pd.read_csv('legoData_mod.csv')\n",
    "lego_mod_df.head\n"
   ]
  },
  {
   "cell_type": "markdown",
   "id": "00d1de64",
   "metadata": {},
   "source": [
    "Just a reminder of what the data looks like"
   ]
  },
  {
   "cell_type": "code",
   "execution_count": 6,
   "id": "7a8963d2",
   "metadata": {},
   "outputs": [
    {
     "name": "stdout",
     "output_type": "stream",
     "text": [
      "Unique Set_numbers: 6792\n",
      "Nulls in Set_number: 0\n",
      "Unique Names: 6154\n",
      "Nulls in Name: 0\n",
      "Unique Set_types: 4\n",
      "Nulls in Set_type: 0\n",
      "Unique Themes: 133\n",
      "Nulls in Theme: 0\n",
      "Unique Theme_groups: 14\n",
      "Nulls in Theme_group: 0\n",
      "Unique Subthemes: 541\n",
      "Nulls in Subtheme: 0\n",
      "Unique Age_ranges: 48\n",
      "Nulls in Age_range: 2573\n"
     ]
    }
   ],
   "source": [
    "#Numerical features, without Price, which is our target variable\n",
    "lego_num_cols=['Year_released', 'Pieces', 'Minifigs']\n",
    "#Categorical features\n",
    "lego_cat_cols=['Set_number', 'Name', 'Set_type', 'Theme', 'Theme_group', 'Subtheme', 'Age_range']\n",
    "lego_num = lego_mod_df[lego_num_cols]\n",
    "lego_cat = lego_mod_df[lego_cat_cols]\n",
    "\n",
    "for i in lego_cat.columns:\n",
    "    print(\"Unique \"+ str(i)+ \"s: \"+ str(len(lego_cat[i].unique())))\n",
    "    print(\"Nulls in \"+ str(i)+ \": \"+ str(lego_cat[i].isna().sum()))"
   ]
  },
  {
   "cell_type": "markdown",
   "id": "51e5244f",
   "metadata": {},
   "source": [
    "## Split to features and target"
   ]
  },
  {
   "cell_type": "code",
   "execution_count": 8,
   "id": "1901dd02",
   "metadata": {},
   "outputs": [],
   "source": [
    "y = lego_mod_df.Price\n",
    "X = lego_mod_df.drop(['Price'], axis=1)\n",
    "\n"
   ]
  },
  {
   "cell_type": "markdown",
   "id": "f14b12ce",
   "metadata": {},
   "source": [
    "## Define model function\n",
    "Here I define a function that reads in the preprocessor and the data itself.\n",
    "It then does a cross validation to output the desired scoring parameters.\n",
    "I am going to look at three parameters, the r2, mean squared error (MSE) and mean absolute error (MAE).\n",
    "MSE will be the main gauge of how the model improves. \n",
    "MAE is just included as it is in the same scale as the input data and is more intuitive to look at."
   ]
  },
  {
   "cell_type": "code",
   "execution_count": 9,
   "id": "59dabf8d",
   "metadata": {},
   "outputs": [],
   "source": [
    "def linear_model(preprocessor,X,y):    \n",
    "\n",
    "\n",
    "    my_pipeline = Pipeline(steps=[('preprocessor', preprocessor),\n",
    "                              ('model', LinearRegression(fit_intercept=True))\n",
    "                             ])\n",
    "    \n",
    "    scoring = ['r2','neg_mean_squared_error','neg_mean_absolute_error']\n",
    "    scores = cross_validate(my_pipeline, X, y,\n",
    "                              cv=5,\n",
    "                              scoring=scoring,\n",
    "                              return_train_score=True)\n",
    "\n",
    "    print(\"mean r2: train = \"+str(scores['train_r2'].mean())+\", test = \"+str(scores['test_r2'].mean()))\n",
    "    print(\"mean MSE: train = \"+str(-1*scores['train_neg_mean_squared_error'].mean())+\", test = \"+str(-1*scores['test_neg_mean_squared_error'].mean()))\n",
    "    print(\"mean MAE: train = \"+str(-1*scores['train_neg_mean_absolute_error'].mean())+\", test = \"+str(-1*scores['test_neg_mean_absolute_error'].mean()))\n",
    "    return -1*scores['test_neg_mean_squared_error'].mean()"
   ]
  },
  {
   "cell_type": "markdown",
   "id": "ddbfe0ef",
   "metadata": {},
   "source": [
    "## Preprocessing\n",
    "### Numerical Data\n",
    "I want to scall all of my variables to between 0 and 1, I first do this for only pieces, as this is the most correlated feature with price, to get a baseline of measurements for my model."
   ]
  },
  {
   "cell_type": "code",
   "execution_count": 10,
   "id": "cf152b1b",
   "metadata": {},
   "outputs": [
    {
     "name": "stdout",
     "output_type": "stream",
     "text": [
      "mean r2: train = 0.742636234392063, test = 0.6821672940644106\n",
      "mean MSE: train = 820.1188141446519, test = 862.7264739631546\n",
      "mean MAE: train = 13.164811833419785, test = 13.33891455338169\n"
     ]
    },
    {
     "data": {
      "text/plain": [
       "862.7264739631546"
      ]
     },
     "execution_count": 10,
     "metadata": {},
     "output_type": "execute_result"
    }
   ],
   "source": [
    "scaler  = preprocessing.MinMaxScaler()\n",
    "preprocessor = ColumnTransformer(\n",
    "    transformers=[\n",
    "        ('num', scaler, ['Pieces',]),\n",
    "    ],\n",
    "    remainder = 'drop'\n",
    ")\n",
    "\n",
    "linear_model(preprocessor,X,y)  \n"
   ]
  },
  {
   "cell_type": "markdown",
   "id": "20cb25f2",
   "metadata": {},
   "source": [
    "Next I add in minifigs"
   ]
  },
  {
   "cell_type": "code",
   "execution_count": 11,
   "id": "efd2eec5",
   "metadata": {},
   "outputs": [
    {
     "name": "stdout",
     "output_type": "stream",
     "text": [
      "mean r2: train = 0.7543667398144124, test = 0.6979754646948189\n",
      "mean MSE: train = 782.1680629351251, test = 819.9908335903867\n",
      "mean MAE: train = 12.196057810704678, test = 12.389671728137037\n"
     ]
    },
    {
     "data": {
      "text/plain": [
       "819.9908335903867"
      ]
     },
     "execution_count": 11,
     "metadata": {},
     "output_type": "execute_result"
    }
   ],
   "source": [
    "scaler  = preprocessing.MinMaxScaler()\n",
    "preprocessor = ColumnTransformer(\n",
    "    transformers=[\n",
    "        ('num', scaler, ['Pieces','Minifigs']),\n",
    "    ],\n",
    "    remainder = 'drop'\n",
    ")\n",
    "linear_model(preprocessor,X,y)  "
   ]
  },
  {
   "cell_type": "markdown",
   "id": "f0002aa0",
   "metadata": {},
   "source": [
    "We can see the MSE and MAE drop significantly, as well as a slight increase in r2\n",
    "\n",
    "the next step is to add in release year."
   ]
  },
  {
   "cell_type": "code",
   "execution_count": 12,
   "id": "5f435465",
   "metadata": {},
   "outputs": [
    {
     "name": "stdout",
     "output_type": "stream",
     "text": [
      "mean r2: train = 0.7549504259204467, test = 0.6980794905126244\n",
      "mean MSE: train = 780.3653488051059, test = 820.8619913483968\n",
      "mean MAE: train = 12.176531429334343, test = 12.591888657238945\n"
     ]
    },
    {
     "data": {
      "text/plain": [
       "820.8619913483968"
      ]
     },
     "execution_count": 12,
     "metadata": {},
     "output_type": "execute_result"
    }
   ],
   "source": [
    "scaler  = preprocessing.MinMaxScaler()\n",
    "preprocessor = ColumnTransformer(\n",
    "    transformers=[\n",
    "        ('num', scaler, ['Pieces','Minifigs','Year_released']),\n",
    "    ],\n",
    "    remainder = 'drop'\n",
    ")\n",
    "\n",
    "linear_model(preprocessor,X,y)  "
   ]
  },
  {
   "cell_type": "markdown",
   "id": "391160fc",
   "metadata": {},
   "source": [
    "Release_year was not very correlated with price, and we notice our indicators going slightly in the wrong direction. Maybe adding polynomials will fix this?"
   ]
  },
  {
   "cell_type": "code",
   "execution_count": 13,
   "id": "34b573e2",
   "metadata": {},
   "outputs": [
    {
     "name": "stdout",
     "output_type": "stream",
     "text": [
      "mean r2: train = 0.7749315938821855, test = 0.7154143708289226\n",
      "mean MSE: train = 714.4462269319782, test = 763.5331584973768\n",
      "mean MAE: train = 11.68228134070396, test = 12.083181969048756\n"
     ]
    },
    {
     "data": {
      "text/plain": [
       "763.5331584973768"
      ]
     },
     "execution_count": 13,
     "metadata": {},
     "output_type": "execute_result"
    }
   ],
   "source": [
    "scaler  = preprocessing.MinMaxScaler()\n",
    "polyn = preprocessing.PolynomialFeatures(2) \n",
    "\n",
    "numerical_transformer = Pipeline(steps=[\n",
    "    ('scale', scaler),\n",
    "    ('poly', polyn)\n",
    "])\n",
    "\n",
    "\n",
    "\n",
    "preprocessor = ColumnTransformer(\n",
    "    transformers=[('num', numerical_transformer, ['Pieces','Minifigs','Year_released']),\n",
    "        \n",
    "    ],\n",
    "    remainder = 'drop'\n",
    ")\n",
    "\n",
    "linear_model(preprocessor,X,y)  "
   ]
  },
  {
   "cell_type": "markdown",
   "id": "58643c09",
   "metadata": {},
   "source": [
    "We can see that adding 2nd order polynomials decreases MAE and MSE on the test data, however going beyond this causes overfitting.\n",
    "\n",
    "However the inclusion of Year_released is still detremental to the model. I am going to graph the MSE of the data vs cutout year below. (I exclude the last ten years as this would remove too much data from the pool)"
   ]
  },
  {
   "cell_type": "code",
   "execution_count": 14,
   "id": "62d4fc95",
   "metadata": {},
   "outputs": [
    {
     "name": "stdout",
     "output_type": "stream",
     "text": [
      "1961\n",
      "mean r2: train = 0.7749315938821855, test = 0.7154143708289226\n",
      "mean MSE: train = 714.4462269319782, test = 763.5331584973768\n",
      "mean MAE: train = 11.68228134070396, test = 12.083181969048756\n",
      "1962\n",
      "mean r2: train = 0.7749064884359042, test = 0.715625942819538\n",
      "mean MSE: train = 714.7627409179998, test = 763.5614057041059\n",
      "mean MAE: train = 11.684648141957355, test = 12.077943308648916\n",
      "1963\n",
      "mean r2: train = 0.7749064884359042, test = 0.715625942819538\n",
      "mean MSE: train = 714.7627409179998, test = 763.5614057041059\n",
      "mean MAE: train = 11.684648141957355, test = 12.077943308648916\n",
      "1964\n",
      "mean r2: train = 0.7751889825449305, test = 0.716842040109339\n",
      "mean MSE: train = 713.9657421375427, test = 764.3544947909365\n",
      "mean MAE: train = 11.639959122588019, test = 12.022769583578384\n",
      "1965\n",
      "mean r2: train = 0.7751110732264257, test = 0.7164668853457681\n",
      "mean MSE: train = 714.606782337094, test = 765.3406422237064\n",
      "mean MAE: train = 11.644640248586484, test = 12.051537675981963\n",
      "1966\n",
      "mean r2: train = 0.7750967568970009, test = 0.7163001552895361\n",
      "mean MSE: train = 714.7896375317605, test = 765.6368201914432\n",
      "mean MAE: train = 11.646132544759801, test = 12.066215002879758\n",
      "1967\n",
      "mean r2: train = 0.7750159754916618, test = 0.7162001681202277\n",
      "mean MSE: train = 715.8841426663947, test = 766.8390159412282\n",
      "mean MAE: train = 11.648944012930041, test = 12.088790827863624\n",
      "1968\n",
      "mean r2: train = 0.7748843765757162, test = 0.7158322713221189\n",
      "mean MSE: train = 717.1209905971835, test = 767.2382404269529\n",
      "mean MAE: train = 11.655048610628047, test = 12.100529166749617\n",
      "1969\n",
      "mean r2: train = 0.7748794500908536, test = 0.7158555451523274\n",
      "mean MSE: train = 717.6134747644985, test = 768.1326678990367\n",
      "mean MAE: train = 11.656934008639137, test = 11.992524683892919\n",
      "1970\n",
      "mean r2: train = 0.7748910498251356, test = 0.7158225923794431\n",
      "mean MSE: train = 718.0153442766316, test = 768.5752812055573\n",
      "mean MAE: train = 11.651000025747413, test = 11.972274479731968\n",
      "1971\n",
      "mean r2: train = 0.7748623086704244, test = 0.7156229273721053\n",
      "mean MSE: train = 718.3175225774205, test = 769.0173527305808\n",
      "mean MAE: train = 11.653975794124145, test = 11.95796239243198\n",
      "1972\n",
      "mean r2: train = 0.7751404226129562, test = 0.7161463911320638\n",
      "mean MSE: train = 718.5526209428195, test = 768.0079425010879\n",
      "mean MAE: train = 11.616049532737929, test = 11.917633947403854\n",
      "1973\n",
      "mean r2: train = 0.7751285146220882, test = 0.7161107165280212\n",
      "mean MSE: train = 718.6546102314667, test = 768.1127865658436\n",
      "mean MAE: train = 11.617128723863313, test = 11.916648544334256\n",
      "1974\n",
      "mean r2: train = 0.7752406212925174, test = 0.7158927881326804\n",
      "mean MSE: train = 718.5422000414438, test = 768.2629234261155\n",
      "mean MAE: train = 11.603578652356907, test = 11.872000348344201\n",
      "1975\n",
      "mean r2: train = 0.7752214867541667, test = 0.7158094966467071\n",
      "mean MSE: train = 718.8237058064342, test = 768.7949281617803\n",
      "mean MAE: train = 11.605799533591316, test = 11.87678319114256\n",
      "1976\n",
      "mean r2: train = 0.7752201100034444, test = 0.7158172930909101\n",
      "mean MSE: train = 718.9119961504263, test = 768.8770950661228\n",
      "mean MAE: train = 11.60551942838464, test = 11.88099346511722\n",
      "1977\n",
      "mean r2: train = 0.7753110549169158, test = 0.7160477695457846\n",
      "mean MSE: train = 719.1584206555242, test = 769.2343940837707\n",
      "mean MAE: train = 11.596642148481099, test = 11.886092662201724\n",
      "1978\n",
      "mean r2: train = 0.7753144973690703, test = 0.7161800067067714\n",
      "mean MSE: train = 719.3448594536801, test = 769.5171843566061\n",
      "mean MAE: train = 11.596280807518053, test = 11.886068006950971\n",
      "1979\n",
      "mean r2: train = 0.7752576680240648, test = 0.7161442052766189\n",
      "mean MSE: train = 720.1213084394819, test = 770.3049680837585\n",
      "mean MAE: train = 11.60241203671775, test = 11.910685287888438\n",
      "1980\n",
      "mean r2: train = 0.7752541755369693, test = 0.71614395140201\n",
      "mean MSE: train = 720.3893713837081, test = 770.6442259443072\n",
      "mean MAE: train = 11.603349751113218, test = 11.908225632547197\n",
      "1981\n",
      "mean r2: train = 0.7752475967028134, test = 0.7163020157465751\n",
      "mean MSE: train = 722.4631180420898, test = 773.4316183870329\n",
      "mean MAE: train = 11.614342521780161, test = 11.924135302161032\n",
      "1982\n",
      "mean r2: train = 0.7753397946171303, test = 0.716638735650309\n",
      "mean MSE: train = 723.4332944129893, test = 774.1651223596758\n",
      "mean MAE: train = 11.609798206877405, test = 11.914010640671028\n",
      "1983\n",
      "mean r2: train = 0.7754381740643094, test = 0.7171405436863287\n",
      "mean MSE: train = 723.5090264175188, test = 773.8494326875355\n",
      "mean MAE: train = 11.60642361853235, test = 11.951110563517748\n",
      "1984\n",
      "mean r2: train = 0.7754481741412487, test = 0.7174126295708217\n",
      "mean MSE: train = 723.7507981231086, test = 774.0013067028799\n",
      "mean MAE: train = 11.605441407845015, test = 11.948845707134097\n",
      "1985\n",
      "mean r2: train = 0.7756303410855141, test = 0.7186642623101337\n",
      "mean MSE: train = 724.6704974817233, test = 772.5012069549796\n",
      "mean MAE: train = 11.60003370972591, test = 11.89047825132955\n",
      "1986\n",
      "mean r2: train = 0.7756664261052615, test = 0.7139305565996739\n",
      "mean MSE: train = 726.7473121744745, test = 767.480380204058\n",
      "mean MAE: train = 11.609751456967722, test = 11.864998813906556\n",
      "1987\n",
      "mean r2: train = 0.7767766719852824, test = 0.7190203901554237\n",
      "mean MSE: train = 724.8692206092841, test = 764.5148284137017\n",
      "mean MAE: train = 11.588205942748392, test = 11.866379440964465\n",
      "1988\n",
      "mean r2: train = 0.7765021592139714, test = 0.7220339302597637\n",
      "mean MSE: train = 728.5338406150133, test = 764.1966921441003\n",
      "mean MAE: train = 11.626808678086874, test = 11.816378431441333\n",
      "1989\n",
      "mean r2: train = 0.7765097786321518, test = 0.72334943268282\n",
      "mean MSE: train = 729.7633527154363, test = 763.6572560774077\n",
      "mean MAE: train = 11.628046556103303, test = 11.7928905005882\n",
      "1990\n",
      "mean r2: train = 0.7763020930592348, test = 0.7210301982811428\n",
      "mean MSE: train = 733.4087050542454, test = 771.7694667012245\n",
      "mean MAE: train = 11.669528765732707, test = 11.84385042126079\n",
      "1991\n",
      "mean r2: train = 0.7762121101973621, test = 0.7211944436940785\n",
      "mean MSE: train = 735.8629790339626, test = 773.8773682009726\n",
      "mean MAE: train = 11.681370929577355, test = 11.854472070833747\n",
      "1992\n",
      "mean r2: train = 0.7762916614202401, test = 0.7180153723710584\n",
      "mean MSE: train = 738.864901755425, test = 782.4430584005222\n",
      "mean MAE: train = 11.70114074597503, test = 11.956698837531125\n",
      "1993\n",
      "mean r2: train = 0.7761799694007754, test = 0.7131732464229901\n",
      "mean MSE: train = 742.8247195019894, test = 793.0717904890208\n",
      "mean MAE: train = 11.734845314922952, test = 12.14790209224143\n",
      "1994\n",
      "mean r2: train = 0.7754742576139673, test = 0.7188104668704204\n",
      "mean MSE: train = 750.0130723459845, test = 783.4518534262655\n",
      "mean MAE: train = 11.790250875636882, test = 11.860712393455909\n",
      "1995\n",
      "mean r2: train = 0.775595197070091, test = 0.6948367786320506\n",
      "mean MSE: train = 752.6572385715444, test = 813.5731070158428\n",
      "mean MAE: train = 11.819414067025608, test = 12.788838351289991\n",
      "1996\n",
      "mean r2: train = 0.7760235107893134, test = 0.7085219222580446\n",
      "mean MSE: train = 757.1701735077074, test = 800.0895491485247\n",
      "mean MAE: train = 11.847332188335304, test = 12.291645816879283\n",
      "1997\n",
      "mean r2: train = 0.7755182051179526, test = 0.6977475972524874\n",
      "mean MSE: train = 766.7851877862815, test = 825.9922514092281\n",
      "mean MAE: train = 11.924601753226819, test = 12.7924675008086\n",
      "1998\n",
      "mean r2: train = 0.7753660599924386, test = 0.7138068381625884\n",
      "mean MSE: train = 777.4829065547507, test = 818.374007356233\n",
      "mean MAE: train = 12.006232892279021, test = 12.177490578894561\n",
      "1999\n",
      "mean r2: train = 0.7794167885546474, test = 0.7272362234749616\n",
      "mean MSE: train = 775.8707192677185, test = 809.3229183475693\n",
      "mean MAE: train = 11.935224256801481, test = 11.810761956505678\n",
      "2000\n",
      "mean r2: train = 0.7809042489564374, test = 0.7360007051482415\n",
      "mean MSE: train = 779.6492077975055, test = 817.6595893543245\n",
      "mean MAE: train = 11.950361933849722, test = 12.153454526361152\n",
      "2001\n",
      "mean r2: train = 0.7830410550628514, test = 0.7260838051640132\n",
      "mean MSE: train = 781.8140044487562, test = 863.3443569950043\n",
      "mean MAE: train = 11.891598635705737, test = 12.998028105737168\n",
      "2002\n",
      "mean r2: train = 0.7833948308608263, test = 0.7197929237566605\n",
      "mean MSE: train = 790.896320877466, test = 882.4784561198791\n",
      "mean MAE: train = 11.918782321770816, test = 13.237922898755205\n",
      "2003\n",
      "mean r2: train = 0.7868735828796012, test = 0.7295635416851238\n",
      "mean MSE: train = 790.3458020645055, test = 881.0586674563572\n",
      "mean MAE: train = 11.776595290057632, test = 12.866282329884777\n",
      "2004\n"
     ]
    },
    {
     "name": "stdout",
     "output_type": "stream",
     "text": [
      "mean r2: train = 0.7892527984103348, test = 0.7305878282526453\n",
      "mean MSE: train = 796.377514761439, test = 907.2094999152889\n",
      "mean MAE: train = 11.751519693165918, test = 13.137778091577587\n",
      "2005\n",
      "mean r2: train = 0.7945789454593661, test = 0.7453638415397434\n",
      "mean MSE: train = 790.2873442214302, test = 886.1246517319669\n",
      "mean MAE: train = 11.640597769523954, test = 12.9104827917764\n",
      "2006\n",
      "mean r2: train = 0.7957642505493018, test = 0.7536845571694548\n",
      "mean MSE: train = 797.5322250237971, test = 883.4999511153883\n",
      "mean MAE: train = 11.62408036092606, test = 12.97169939504074\n",
      "2007\n",
      "mean r2: train = 0.8004366576623312, test = 0.7679783696351493\n",
      "mean MSE: train = 792.1106057201056, test = 863.1455683916778\n",
      "mean MAE: train = 11.528131493513866, test = 12.70041814612867\n",
      "2008\n",
      "mean r2: train = 0.8010872900766284, test = 0.764920463324219\n",
      "mean MSE: train = 793.9717374712515, test = 880.956857948174\n",
      "mean MAE: train = 11.543372448509146, test = 12.689691606960839\n",
      "2009\n",
      "mean r2: train = 0.8024013843192653, test = 0.7772556786724119\n",
      "mean MSE: train = 799.4050210515948, test = 863.5940165110867\n",
      "mean MAE: train = 11.51096922348575, test = 12.355524240484778\n",
      "2010\n",
      "mean r2: train = 0.8069495422149714, test = 0.7724724889959471\n",
      "mean MSE: train = 796.0664515138054, test = 908.5951908917959\n",
      "mean MAE: train = 11.404923981899554, test = 12.01498471192314\n",
      "2011\n",
      "mean r2: train = 0.8056706197434265, test = 0.7686233304162615\n",
      "mean MSE: train = 812.3646394038293, test = 957.0354574889707\n",
      "mean MAE: train = 11.497652327833164, test = 11.804324465955087\n",
      "2012\n",
      "mean r2: train = 0.8031939664006338, test = 0.7625805865419879\n",
      "mean MSE: train = 844.436242424701, test = 1015.6428245006103\n",
      "mean MAE: train = 11.742292753780323, test = 12.092106506926516\n"
     ]
    },
    {
     "data": {
      "text/plain": [
       "[<matplotlib.lines.Line2D at 0x7fd85f2678e0>]"
      ]
     },
     "execution_count": 14,
     "metadata": {},
     "output_type": "execute_result"
    },
    {
     "data": {
      "image/png": "[encoded data removed]",
      "text/plain": [
       "<Figure size 640x480 with 1 Axes>"
      ]
     },
     "metadata": {},
     "output_type": "display_data"
    }
   ],
   "source": [
    "year_list = []\n",
    "MSE_list = []\n",
    "for year in range(int(lego_mod_df.Year_released.min()),int(lego_mod_df.Year_released.max())-10):\n",
    "    lego_mod_postdate_df = lego_mod_df[lego_mod_df.Year_released >= year]\n",
    "    y_new = lego_mod_postdate_df.Price\n",
    "    X_new = lego_mod_postdate_df.drop(['Price'], axis=1)\n",
    "\n",
    "\n",
    "    scaler  = preprocessing.MinMaxScaler()\n",
    "    polyn = preprocessing.PolynomialFeatures(2) \n",
    "\n",
    "    numerical_transformer = Pipeline(steps=[\n",
    "        ('scale', scaler),\n",
    "        ('poly', polyn)\n",
    "    ])\n",
    "    print(year)\n",
    "    preprocessor = ColumnTransformer(\n",
    "        transformers=[('num', numerical_transformer, ['Pieces','Minifigs','Year_released']),\n",
    "\n",
    "        ],\n",
    "    remainder = 'drop'\n",
    "    )\n",
    "\n",
    "    year_list.append(year)\n",
    "    MSE_list.append(linear_model(preprocessor,X_new,y_new))\n",
    "plt.plot(year_list, MSE_list)"
   ]
  },
  {
   "cell_type": "markdown",
   "id": "05d557b9",
   "metadata": {},
   "source": [
    "We see that the more data the more accurate the model, not only that, we see that the model is never more accurate than just excluding the year_released column alltogether (shown below)"
   ]
  },
  {
   "cell_type": "code",
   "execution_count": 88,
   "id": "24f857f6",
   "metadata": {},
   "outputs": [
    {
     "name": "stdout",
     "output_type": "stream",
     "text": [
      "1961\n",
      "mean r2: train = 0.7717794359329343, test = 0.7119357643649208\n",
      "mean MSE: train = 723.8377048266868, test = 756.74284054749\n",
      "mean MAE: train = 11.590385030708518, test = 11.657041272242692\n",
      "1962\n",
      "mean r2: train = 0.771885668806316, test = 0.7124444910085674\n",
      "mean MSE: train = 723.7598491667873, test = 756.3065539983576\n",
      "mean MAE: train = 11.58711810753214, test = 11.652870361433141\n",
      "1963\n",
      "mean r2: train = 0.771885668806316, test = 0.7124444910085674\n",
      "mean MSE: train = 723.7598491667873, test = 756.3065539983576\n",
      "mean MAE: train = 11.58711810753214, test = 11.652870361433141\n",
      "1964\n",
      "mean r2: train = 0.773323687834021, test = 0.7176262696056178\n",
      "mean MSE: train = 719.5837935699682, test = 755.5441281436625\n",
      "mean MAE: train = 11.558822951812258, test = 11.633921936842926\n",
      "1965\n",
      "mean r2: train = 0.7732413595976357, test = 0.7174832777427433\n",
      "mean MSE: train = 720.2466987740269, test = 756.3199449300623\n",
      "mean MAE: train = 11.565810966165975, test = 11.641787381642828\n",
      "1966\n",
      "mean r2: train = 0.7732376426866716, test = 0.7175213446405457\n",
      "mean MSE: train = 720.3998696504453, test = 756.3960838787312\n",
      "mean MAE: train = 11.567287736598594, test = 11.641325718764296\n",
      "1967\n",
      "mean r2: train = 0.7734215837092536, test = 0.7185431422071216\n",
      "mean MSE: train = 720.708530206607, test = 756.114639210948\n",
      "mean MAE: train = 11.5647836602168, test = 11.636592826772823\n",
      "1968\n",
      "mean r2: train = 0.7735377237546779, test = 0.7186809875477669\n",
      "mean MSE: train = 721.197292168356, test = 756.0055112654179\n",
      "mean MAE: train = 11.564135969570382, test = 11.63041354007833\n",
      "1969\n",
      "mean r2: train = 0.7736491181163513, test = 0.7189679265028627\n",
      "mean MSE: train = 721.3544647397432, test = 756.152437811649\n",
      "mean MAE: train = 11.561141841263916, test = 11.629657284620354\n",
      "1970\n",
      "mean r2: train = 0.7738225184813021, test = 0.7196025054136569\n",
      "mean MSE: train = 721.2786012546542, test = 755.8062574920408\n",
      "mean MAE: train = 11.557563010474734, test = 11.625579101012027\n",
      "1971\n",
      "mean r2: train = 0.773813082207436, test = 0.7195524180566586\n",
      "mean MSE: train = 721.5242620579647, test = 756.027671002861\n",
      "mean MAE: train = 11.559642293026975, test = 11.626996578290171\n",
      "1972\n",
      "mean r2: train = 0.7744502904100818, test = 0.7219076471409989\n",
      "mean MSE: train = 720.7285764260432, test = 753.9386978066839\n",
      "mean MAE: train = 11.54519877899173, test = 11.614751661887885\n",
      "1973\n",
      "mean r2: train = 0.7744371399211143, test = 0.7218882599732342\n",
      "mean MSE: train = 720.834736173015, test = 754.0187270123104\n",
      "mean MAE: train = 11.546864695273854, test = 11.616055466038114\n",
      "1974\n",
      "mean r2: train = 0.7746236968415509, test = 0.722440518104231\n",
      "mean MSE: train = 720.5127301536306, test = 753.3960447287969\n",
      "mean MAE: train = 11.541319104286632, test = 11.61030526743184\n",
      "1975\n",
      "mean r2: train = 0.7746104010211812, test = 0.7224315906733683\n",
      "mean MSE: train = 720.776481090683, test = 753.7807004722739\n",
      "mean MAE: train = 11.5439476584211, test = 11.613440847178284\n",
      "1976\n",
      "mean r2: train = 0.7746063872621091, test = 0.7224297408401524\n",
      "mean MSE: train = 720.8734473873717, test = 753.8598557695659\n",
      "mean MAE: train = 11.54395384698067, test = 11.613729136057533\n",
      "1977\n",
      "mean r2: train = 0.7746985557964565, test = 0.7227041567276269\n",
      "mean MSE: train = 721.1202263884198, test = 754.060329663935\n",
      "mean MAE: train = 11.536637566530004, test = 11.606978898384945\n",
      "1978\n",
      "mean r2: train = 0.7747027260090839, test = 0.7228727763305101\n",
      "mean MSE: train = 721.3060614641756, test = 754.29275877497\n",
      "mean MAE: train = 11.536905235260598, test = 11.60840430966489\n",
      "1979\n",
      "mean r2: train = 0.7746434990031054, test = 0.7227841354201958\n",
      "mean MSE: train = 722.0923061344804, test = 755.0996526637437\n",
      "mean MAE: train = 11.543939407636621, test = 11.616158224449546\n",
      "1980\n",
      "mean r2: train = 0.7746477062942262, test = 0.7228229440955576\n",
      "mean MSE: train = 722.3391234324685, test = 755.4219352713146\n",
      "mean MAE: train = 11.545421450606757, test = 11.617227451308267\n",
      "1981\n",
      "mean r2: train = 0.7746273967816251, test = 0.7231239806630876\n",
      "mean MSE: train = 724.4599194139719, test = 757.6273789651291\n",
      "mean MAE: train = 11.558374264785835, test = 11.632522462613624\n",
      "1982\n",
      "mean r2: train = 0.7747033765966196, test = 0.7234265036225406\n",
      "mean MSE: train = 725.482327489672, test = 758.6387440042788\n",
      "mean MAE: train = 11.561026964678991, test = 11.629979674729135\n",
      "1983\n",
      "mean r2: train = 0.774798576190995, test = 0.7235860124853544\n",
      "mean MSE: train = 725.5625250046987, test = 758.7115586866242\n",
      "mean MAE: train = 11.556558954904528, test = 11.625315349964168\n",
      "1984\n",
      "mean r2: train = 0.7748012233233194, test = 0.7237870982748063\n",
      "mean MSE: train = 725.82598428091, test = 758.9603735810049\n",
      "mean MAE: train = 11.55668984172237, test = 11.624890756024351\n",
      "1985\n",
      "mean r2: train = 0.7749622673205007, test = 0.724762683386402\n",
      "mean MSE: train = 726.8228982975734, test = 759.0338308663862\n",
      "mean MAE: train = 11.555383784536826, test = 11.617285475371263\n",
      "1986\n",
      "mean r2: train = 0.7749675363042574, test = 0.7255449200154471\n",
      "mean MSE: train = 729.0168559249821, test = 748.2622027365576\n",
      "mean MAE: train = 11.565189044624741, test = 11.617249784082512\n",
      "1987\n",
      "mean r2: train = 0.7759898959238379, test = 0.7294704449243969\n",
      "mean MSE: train = 727.4075108836477, test = 746.9435872136294\n",
      "mean MAE: train = 11.536709005499754, test = 11.587415991476167\n",
      "1988\n",
      "mean r2: train = 0.7757383455546341, test = 0.7297641360240977\n",
      "mean MSE: train = 730.9899869812783, test = 750.009333872624\n",
      "mean MAE: train = 11.572974917060249, test = 11.61546452998114\n",
      "1989\n",
      "mean r2: train = 0.7756984998376122, test = 0.7295816386944086\n",
      "mean MSE: train = 732.3611825402471, test = 751.3762858657343\n",
      "mean MAE: train = 11.57998677499452, test = 11.622013071035912\n",
      "1990\n",
      "mean r2: train = 0.7754408111107296, test = 0.7284476476819096\n",
      "mean MSE: train = 736.1723498302421, test = 757.5351759306728\n",
      "mean MAE: train = 11.62195676870817, test = 11.673671822259077\n",
      "1991\n",
      "mean r2: train = 0.7753457687020486, test = 0.7280087040413485\n",
      "mean MSE: train = 738.6491819968893, test = 760.186415617354\n",
      "mean MAE: train = 11.635296260825182, test = 11.686730087551835\n",
      "1992\n",
      "mean r2: train = 0.7754543407658622, test = 0.7289208356353727\n",
      "mean MSE: train = 741.576245716192, test = 763.5617187857649\n",
      "mean MAE: train = 11.649481032464593, test = 11.702286605084794\n",
      "1993\n",
      "mean r2: train = 0.7752544912938041, test = 0.7281810573862431\n",
      "mean MSE: train = 745.8323317171787, test = 768.3620118394965\n",
      "mean MAE: train = 11.678047123537866, test = 11.731087265011102\n",
      "1994\n",
      "mean r2: train = 0.7746105858164123, test = 0.7270156289825647\n",
      "mean MSE: train = 752.8627548392978, test = 769.8868176653677\n",
      "mean MAE: train = 11.734770685376112, test = 11.763611197204483\n",
      "1995\n",
      "mean r2: train = 0.7746351621994056, test = 0.7236207726925674\n",
      "mean MSE: train = 755.8568509677932, test = 773.5348522321055\n",
      "mean MAE: train = 11.758535147468029, test = 11.78332372101952\n",
      "1996\n",
      "mean r2: train = 0.775148611231541, test = 0.7239804809760523\n",
      "mean MSE: train = 760.0486393941368, test = 777.5861653728192\n",
      "mean MAE: train = 11.779314046243837, test = 11.788478074497906\n",
      "1997\n",
      "mean r2: train = 0.7745627270561749, test = 0.724118885093134\n",
      "mean MSE: train = 769.9791450911921, test = 788.2747730284316\n",
      "mean MAE: train = 11.857239175230678, test = 11.868284002813123\n",
      "1998\n",
      "mean r2: train = 0.7744077211844469, test = 0.7244151257325218\n",
      "mean MSE: train = 780.7097904931712, test = 800.887927523994\n",
      "mean MAE: train = 11.927865423679918, test = 11.935900826927426\n",
      "1999\n",
      "mean r2: train = 0.7786138792120871, test = 0.7326790551636717\n",
      "mean MSE: train = 778.626833249553, test = 799.0515863253274\n",
      "mean MAE: train = 11.866244056642419, test = 11.873385801662689\n",
      "2000\n",
      "mean r2: train = 0.7799051115557789, test = 0.7406910962922952\n",
      "mean MSE: train = 783.1055347092112, test = 806.6049429629294\n",
      "mean MAE: train = 11.883178421186638, test = 11.9037586958089\n",
      "2001\n",
      "mean r2: train = 0.7819204164163247, test = 0.7499022377235229\n",
      "mean MSE: train = 785.9000955568515, test = 815.4274831638326\n",
      "mean MAE: train = 11.849725482493897, test = 11.932791769558477\n",
      "2002\n",
      "mean r2: train = 0.782183029219549, test = 0.7482269821541054\n",
      "mean MSE: train = 795.3761552265876, test = 824.9434146323608\n",
      "mean MAE: train = 11.875223301059036, test = 11.959033256983531\n",
      "2003\n",
      "mean r2: train = 0.7855230435941707, test = 0.7542136017862786\n",
      "mean MSE: train = 795.3875562370247, test = 826.6270705354942\n",
      "mean MAE: train = 11.753174621742792, test = 11.854491266388518\n",
      "2004\n",
      "mean r2: train = 0.7876682382785861, test = 0.7623824488467909\n",
      "mean MSE: train = 802.4000071080499, test = 831.773589035025\n",
      "mean MAE: train = 11.73492756389447, test = 11.818417100388027\n",
      "2005\n"
     ]
    },
    {
     "name": "stdout",
     "output_type": "stream",
     "text": [
      "mean r2: train = 0.7931885764317227, test = 0.7737528717688738\n",
      "mean MSE: train = 795.6811987973017, test = 820.1830062911182\n",
      "mean MAE: train = 11.630821634727553, test = 11.689465209760362\n",
      "2006\n",
      "mean r2: train = 0.7948528875535263, test = 0.7781340621048531\n",
      "mean MSE: train = 801.1820780611899, test = 823.409027653726\n",
      "mean MAE: train = 11.627005115340499, test = 11.678015594381543\n",
      "2007\n",
      "mean r2: train = 0.7997824745207933, test = 0.7875107037253766\n",
      "mean MSE: train = 794.825548606452, test = 816.5548086182606\n",
      "mean MAE: train = 11.51493524840458, test = 11.56187579893422\n",
      "2008\n",
      "mean r2: train = 0.8003966459875385, test = 0.7866450805637312\n",
      "mean MSE: train = 796.9017159360299, test = 831.1064751344784\n",
      "mean MAE: train = 11.502284970792335, test = 11.56547169374089\n",
      "2009\n",
      "mean r2: train = 0.8008780272012181, test = 0.7865254855514194\n",
      "mean MSE: train = 805.4594012563368, test = 838.2211807691423\n",
      "mean MAE: train = 11.519426346518042, test = 11.582405730891821\n",
      "2010\n",
      "mean r2: train = 0.8048703037150251, test = 0.7788049528667059\n",
      "mean MSE: train = 804.2778596326735, test = 878.2767010760651\n",
      "mean MAE: train = 11.448886186601275, test = 11.654450474961417\n",
      "2011\n",
      "mean r2: train = 0.8029178534862469, test = 0.7794719590042279\n",
      "mean MSE: train = 823.4373188133347, test = 906.7159346844612\n",
      "mean MAE: train = 11.532982259041642, test = 11.761437950962844\n",
      "2012\n",
      "mean r2: train = 0.8001044572616749, test = 0.7764123977569154\n",
      "mean MSE: train = 857.1584452904657, test = 948.695183345686\n",
      "mean MAE: train = 11.76417772807046, test = 12.005720454686678\n"
     ]
    },
    {
     "data": {
      "text/plain": [
       "[<matplotlib.lines.Line2D at 0x7f7de412d6f0>]"
      ]
     },
     "execution_count": 88,
     "metadata": {},
     "output_type": "execute_result"
    },
    {
     "data": {
      "image/png": "[encoded data removed]",
      "text/plain": [
       "<Figure size 640x480 with 1 Axes>"
      ]
     },
     "metadata": {},
     "output_type": "display_data"
    }
   ],
   "source": [
    "year_list = []\n",
    "MSE_list = []\n",
    "for year in range(int(lego_mod_df.Year_released.min()),int(lego_mod_df.Year_released.max())-10):\n",
    "    lego_mod_postdate_df = lego_mod_df[lego_mod_df.Year_released >= year]\n",
    "    y_new = lego_mod_postdate_df.Price\n",
    "    X_new = lego_mod_postdate_df.drop(['Price'], axis=1)\n",
    "\n",
    "\n",
    "    scaler  = preprocessing.MinMaxScaler()\n",
    "    polyn = preprocessing.PolynomialFeatures(2) \n",
    "\n",
    "    print(year)\n",
    "    numerical_transformer = Pipeline(steps=[\n",
    "        ('scale', scaler),\n",
    "        ('poly', polyn)\n",
    "    ])\n",
    "\n",
    "    preprocessor = ColumnTransformer(\n",
    "        transformers=[('num', numerical_transformer, ['Pieces','Minifigs']),\n",
    "\n",
    "        ],\n",
    "    remainder = 'drop'\n",
    "    )\n",
    "\n",
    "    year_list.append(year)\n",
    "    MSE_list.append(linear_model(preprocessor,X_new,y_new))\n",
    "plt.plot(year_list, MSE_list)"
   ]
  },
  {
   "cell_type": "markdown",
   "id": "34e2380e",
   "metadata": {},
   "source": [
    "Interestling, we see a dip in the MSE when setting 1987 as the cutoff date for excluding old data.\n",
    "It might be possible that this is the sweet spot, where we have the most amount of data, but exclude old data which has an impact on trends that the model can evaluate. For now we'll just exclude Year_released and continue to use the whole dataset. However, we'll return to looking at a cut-off year to imrpve the model after categorical data has been included "
   ]
  },
  {
   "cell_type": "code",
   "execution_count": 17,
   "id": "308abbce",
   "metadata": {},
   "outputs": [
    {
     "name": "stdout",
     "output_type": "stream",
     "text": [
      "mean r2: train = 0.7717794359329343, test = 0.7119357643649208\n",
      "mean MSE: train = 723.8377048266868, test = 756.74284054749\n",
      "mean MAE: train = 11.590385030708518, test = 11.657041272242692\n"
     ]
    },
    {
     "data": {
      "text/plain": [
       "756.74284054749"
      ]
     },
     "execution_count": 17,
     "metadata": {},
     "output_type": "execute_result"
    }
   ],
   "source": [
    "#Last time I'll define the numerical transformer, for now.\n",
    "scaler  = preprocessing.MinMaxScaler()\n",
    "polyn = preprocessing.PolynomialFeatures(2) \n",
    "numerical_transformer = Pipeline(steps=[\n",
    "    ('scale', scaler),\n",
    "    ('poly', polyn)\n",
    "])\n",
    "\n",
    "\n",
    "\n",
    "preprocessor = ColumnTransformer(\n",
    "    transformers=[('num', numerical_transformer, ['Pieces','Minifigs'])\n",
    "    ],\n",
    "    remainder = 'drop'\n",
    ")\n",
    "\n",
    "linear_model(preprocessor,X,y)  \n"
   ]
  },
  {
   "cell_type": "markdown",
   "id": "35295974",
   "metadata": {},
   "source": [
    "#### Categorical Data\n",
    "Next we will look at the categorical data.\n",
    "\n",
    "Some of these features have many unique variables, whereas some have few, as such I will test to see which are better candidates for onehot, binary and target encoding.Below is an example of one such comparisson between the three varaiables for the \"Subtheme\" variable."
   ]
  },
  {
   "cell_type": "code",
   "execution_count": 18,
   "id": "5b86c795",
   "metadata": {},
   "outputs": [
    {
     "name": "stderr",
     "output_type": "stream",
     "text": [
      "/usr/lib/python3.10/site-packages/sklearn/preprocessing/_encoders.py:182: UserWarning: Found unknown categories in columns [1] during transform. These unknown categories will be encoded as all zeros\n",
      "  warnings.warn(\n",
      "/usr/lib/python3.10/site-packages/sklearn/preprocessing/_encoders.py:182: UserWarning: Found unknown categories in columns [0, 1] during transform. These unknown categories will be encoded as all zeros\n",
      "  warnings.warn(\n",
      "/usr/lib/python3.10/site-packages/sklearn/preprocessing/_encoders.py:182: UserWarning: Found unknown categories in columns [1] during transform. These unknown categories will be encoded as all zeros\n",
      "  warnings.warn(\n",
      "/usr/lib/python3.10/site-packages/sklearn/preprocessing/_encoders.py:182: UserWarning: Found unknown categories in columns [1] during transform. These unknown categories will be encoded as all zeros\n",
      "  warnings.warn(\n"
     ]
    },
    {
     "name": "stdout",
     "output_type": "stream",
     "text": [
      "mean r2: train = 0.869398872667847, test = 0.41588220593978686\n",
      "mean MSE: train = 414.06756871184814, test = 1445.506166781896\n",
      "mean MAE: train = 9.356037848421881, test = 24.60292791912603\n"
     ]
    },
    {
     "name": "stderr",
     "output_type": "stream",
     "text": [
      "/usr/lib/python3.10/site-packages/sklearn/preprocessing/_encoders.py:182: UserWarning: Found unknown categories in columns [0, 1] during transform. These unknown categories will be encoded as all zeros\n",
      "  warnings.warn(\n"
     ]
    },
    {
     "data": {
      "text/plain": [
       "1445.506166781896"
      ]
     },
     "execution_count": 18,
     "metadata": {},
     "output_type": "execute_result"
    }
   ],
   "source": [
    "#Test Variable as One Hot Encoded\n",
    "BI_categorical_transformer = Pipeline(steps=[\n",
    "    ('Binary', BinaryEncoder(return_df=True))\n",
    "    \n",
    "])\n",
    "OH_categorical_transformer = Pipeline(steps=[\n",
    "    ('onehot', OneHotEncoder(handle_unknown='ignore', drop = 'first'))\n",
    "    \n",
    "])\n",
    "\n",
    "TAR_categorical_transformer = Pipeline(steps=[\n",
    "    ('Target', ce.TargetEncoder())\n",
    "    \n",
    "])\n",
    "\n",
    "\n",
    "preprocessor = ColumnTransformer(\n",
    "    transformers=[('num', numerical_transformer, ['Pieces','Minifigs','Year_released']),\n",
    "                  ('BI_cat', BI_categorical_transformer, ['Set_type']),\n",
    "                  ('OH_cat', OH_categorical_transformer, ['Theme_group','Subtheme']),\n",
    "                  ('TAR_cat', TAR_categorical_transformer, ['Theme'])\n",
    "    ],\n",
    "    remainder = 'drop'\n",
    ")\n",
    "\n",
    "linear_model(preprocessor,X,y)  "
   ]
  },
  {
   "cell_type": "code",
   "execution_count": 19,
   "id": "9dfde15e",
   "metadata": {
    "scrolled": true
   },
   "outputs": [
    {
     "name": "stderr",
     "output_type": "stream",
     "text": [
      "/usr/lib/python3.10/site-packages/sklearn/preprocessing/_encoders.py:182: UserWarning: Found unknown categories in columns [0] during transform. These unknown categories will be encoded as all zeros\n",
      "  warnings.warn(\n"
     ]
    },
    {
     "name": "stdout",
     "output_type": "stream",
     "text": [
      "mean r2: train = 0.8227562201203771, test = 0.6963833235908852\n",
      "mean MSE: train = 562.400871813574, test = 687.4679204130382\n",
      "mean MAE: train = 11.29217270671783, test = 12.898043228244745\n"
     ]
    },
    {
     "name": "stderr",
     "output_type": "stream",
     "text": [
      "/usr/lib/python3.10/site-packages/sklearn/preprocessing/_encoders.py:182: UserWarning: Found unknown categories in columns [0] during transform. These unknown categories will be encoded as all zeros\n",
      "  warnings.warn(\n"
     ]
    },
    {
     "data": {
      "text/plain": [
       "687.4679204130382"
      ]
     },
     "execution_count": 19,
     "metadata": {},
     "output_type": "execute_result"
    }
   ],
   "source": [
    "#Test Variable as Binary Encoded\n",
    "OH_categorical_transformer = Pipeline(steps=[\n",
    "    ('onehot', OneHotEncoder(handle_unknown='ignore', drop = 'first'))\n",
    "    \n",
    "])\n",
    "\n",
    "TAR_categorical_transformer = Pipeline(steps=[\n",
    "    ('Target', ce.TargetEncoder())\n",
    "    \n",
    "])\n",
    "BI_categorical_transformer = Pipeline(steps=[\n",
    "    ('Binary', BinaryEncoder(return_df=True))\n",
    "    \n",
    "])\n",
    "\n",
    "\n",
    "preprocessor = ColumnTransformer(\n",
    "    transformers=[('num', numerical_transformer, ['Pieces','Minifigs','Year_released']),\n",
    "                  ('BI_cat', BI_categorical_transformer, ['Set_type','Subtheme']),\n",
    "                  ('TAR_cat', TAR_categorical_transformer, ['Theme']),\n",
    "                  ('OH_cat', OH_categorical_transformer, ['Theme_group'])\n",
    "    ],\n",
    "    remainder = 'drop'\n",
    ")\n",
    "\n",
    "linear_model(preprocessor,X,y)  "
   ]
  },
  {
   "cell_type": "code",
   "execution_count": 20,
   "id": "ad0c98f9",
   "metadata": {},
   "outputs": [
    {
     "name": "stderr",
     "output_type": "stream",
     "text": [
      "/usr/lib/python3.10/site-packages/sklearn/preprocessing/_encoders.py:182: UserWarning: Found unknown categories in columns [0] during transform. These unknown categories will be encoded as all zeros\n",
      "  warnings.warn(\n"
     ]
    },
    {
     "name": "stdout",
     "output_type": "stream",
     "text": [
      "mean r2: train = 0.824496967634724, test = 0.6944511148762051\n",
      "mean MSE: train = 556.3287381856042, test = 682.1424072111449\n",
      "mean MAE: train = 11.398093989016962, test = 13.059755001047375\n"
     ]
    },
    {
     "name": "stderr",
     "output_type": "stream",
     "text": [
      "/usr/lib/python3.10/site-packages/sklearn/preprocessing/_encoders.py:182: UserWarning: Found unknown categories in columns [0] during transform. These unknown categories will be encoded as all zeros\n",
      "  warnings.warn(\n"
     ]
    },
    {
     "data": {
      "text/plain": [
       "682.1424072111449"
      ]
     },
     "execution_count": 20,
     "metadata": {},
     "output_type": "execute_result"
    }
   ],
   "source": [
    "#Test Variable as Target Encoded\n",
    "OH_categorical_transformer = Pipeline(steps=[\n",
    "    ('onehot', OneHotEncoder(handle_unknown='ignore', drop = 'first'))\n",
    "    \n",
    "])\n",
    "\n",
    "TAR_categorical_transformer = Pipeline(steps=[\n",
    "    ('Target', ce.TargetEncoder())\n",
    "    \n",
    "])\n",
    "BI_categorical_transformer = Pipeline(steps=[\n",
    "    ('Binary', BinaryEncoder(return_df=True))\n",
    "    \n",
    "])\n",
    "\n",
    "\n",
    "preprocessor = ColumnTransformer(\n",
    "    transformers=[('num', numerical_transformer, ['Pieces','Minifigs','Year_released']),\n",
    "                  ('BI_cat', BI_categorical_transformer, ['Set_type']),\n",
    "                  ('TAR_cat', TAR_categorical_transformer, ['Theme','Subtheme']),\n",
    "                  ('OH_cat', OH_categorical_transformer, ['Theme_group'])\n",
    "    ],\n",
    "    remainder = 'drop'\n",
    ")\n",
    "\n",
    "linear_model(preprocessor,X,y)  \n"
   ]
  },
  {
   "cell_type": "markdown",
   "id": "e6064a8a",
   "metadata": {},
   "source": [
    "The below run specifies our new best model (this actually excludes subtheme from the model)."
   ]
  },
  {
   "cell_type": "code",
   "execution_count": 22,
   "id": "3d8a40fa",
   "metadata": {},
   "outputs": [
    {
     "name": "stderr",
     "output_type": "stream",
     "text": [
      "/usr/lib/python3.10/site-packages/sklearn/preprocessing/_encoders.py:182: UserWarning: Found unknown categories in columns [0] during transform. These unknown categories will be encoded as all zeros\n",
      "  warnings.warn(\n"
     ]
    },
    {
     "name": "stdout",
     "output_type": "stream",
     "text": [
      "mean r2: train = 0.8216512434640872, test = 0.7177826978663842\n",
      "mean MSE: train = 566.0474298860718, test = 667.625387925952\n",
      "mean MAE: train = 11.254331245940381, test = 12.423007977317514\n"
     ]
    },
    {
     "name": "stderr",
     "output_type": "stream",
     "text": [
      "/usr/lib/python3.10/site-packages/sklearn/preprocessing/_encoders.py:182: UserWarning: Found unknown categories in columns [0] during transform. These unknown categories will be encoded as all zeros\n",
      "  warnings.warn(\n"
     ]
    },
    {
     "data": {
      "text/plain": [
       "667.625387925952"
      ]
     },
     "execution_count": 22,
     "metadata": {},
     "output_type": "execute_result"
    }
   ],
   "source": [
    "#Best Run\n",
    "OH_categorical_transformer = Pipeline(steps=[\n",
    "    ('onehot', OneHotEncoder(handle_unknown='ignore', drop = 'first'))\n",
    "    \n",
    "])\n",
    "\n",
    "TAR_categorical_transformer = Pipeline(steps=[\n",
    "    ('Target', ce.TargetEncoder())\n",
    "    \n",
    "])\n",
    "BI_categorical_transformer = Pipeline(steps=[\n",
    "    ('Binary', BinaryEncoder(return_df=True))\n",
    "    \n",
    "])\n",
    "\n",
    "\n",
    "preprocessor = ColumnTransformer(\n",
    "    transformers=[('num', numerical_transformer, ['Pieces','Minifigs','Year_released']),\n",
    "                  ('BI_cat', BI_categorical_transformer, ['Set_type']),\n",
    "                  ('TAR_cat', TAR_categorical_transformer, ['Theme']),\n",
    "                  ('OH_cat', OH_categorical_transformer, ['Theme_group'])\n",
    "    ],\n",
    "    remainder = 'drop'\n",
    ")\n",
    "\n",
    "linear_model(preprocessor,X,y)  "
   ]
  },
  {
   "cell_type": "markdown",
   "id": "1289e5ca",
   "metadata": {},
   "source": [
    "As it turns out the method that minimizes the MSE involves encoding Set_type, Theme and Theme_group each a different way, and ignoring the Subtheme feature. \n",
    "\n",
    "Let's see how the data changes again cutting off old data at a particular year"
   ]
  },
  {
   "cell_type": "code",
   "execution_count": 23,
   "id": "c675355f",
   "metadata": {},
   "outputs": [
    {
     "name": "stdout",
     "output_type": "stream",
     "text": [
      "1961\n"
     ]
    },
    {
     "name": "stderr",
     "output_type": "stream",
     "text": [
      "/usr/lib/python3.10/site-packages/sklearn/preprocessing/_encoders.py:182: UserWarning: Found unknown categories in columns [0] during transform. These unknown categories will be encoded as all zeros\n",
      "  warnings.warn(\n",
      "/usr/lib/python3.10/site-packages/sklearn/preprocessing/_encoders.py:182: UserWarning: Found unknown categories in columns [0] during transform. These unknown categories will be encoded as all zeros\n",
      "  warnings.warn(\n",
      "/usr/lib/python3.10/site-packages/sklearn/preprocessing/_encoders.py:182: UserWarning: Found unknown categories in columns [0] during transform. These unknown categories will be encoded as all zeros\n",
      "  warnings.warn(\n"
     ]
    },
    {
     "name": "stdout",
     "output_type": "stream",
     "text": [
      "mean r2: train = 0.8216512434640872, test = 0.7177826978663842\n",
      "mean MSE: train = 566.0474298860718, test = 667.625387925952\n",
      "mean MAE: train = 11.254331245940381, test = 12.423007977317514\n",
      "1962\n"
     ]
    },
    {
     "name": "stderr",
     "output_type": "stream",
     "text": [
      "/usr/lib/python3.10/site-packages/sklearn/preprocessing/_encoders.py:182: UserWarning: Found unknown categories in columns [0] during transform. These unknown categories will be encoded as all zeros\n",
      "  warnings.warn(\n"
     ]
    },
    {
     "name": "stdout",
     "output_type": "stream",
     "text": [
      "mean r2: train = 0.8216294984160978, test = 0.7182780081130058\n",
      "mean MSE: train = 566.2998713834667, test = 667.2524446394849\n",
      "mean MAE: train = 11.256786224599935, test = 12.41943825817061\n",
      "1963\n"
     ]
    },
    {
     "name": "stderr",
     "output_type": "stream",
     "text": [
      "/usr/lib/python3.10/site-packages/sklearn/preprocessing/_encoders.py:182: UserWarning: Found unknown categories in columns [0] during transform. These unknown categories will be encoded as all zeros\n",
      "  warnings.warn(\n",
      "/usr/lib/python3.10/site-packages/sklearn/preprocessing/_encoders.py:182: UserWarning: Found unknown categories in columns [0] during transform. These unknown categories will be encoded as all zeros\n",
      "  warnings.warn(\n"
     ]
    },
    {
     "name": "stdout",
     "output_type": "stream",
     "text": [
      "mean r2: train = 0.8216294984160978, test = 0.7182780081130058\n",
      "mean MSE: train = 566.2998713834667, test = 667.2524446394849\n",
      "mean MAE: train = 11.256786224599935, test = 12.41943825817061\n",
      "1964\n"
     ]
    },
    {
     "name": "stderr",
     "output_type": "stream",
     "text": [
      "/usr/lib/python3.10/site-packages/sklearn/preprocessing/_encoders.py:182: UserWarning: Found unknown categories in columns [0] during transform. These unknown categories will be encoded as all zeros\n",
      "  warnings.warn(\n",
      "/usr/lib/python3.10/site-packages/sklearn/preprocessing/_encoders.py:182: UserWarning: Found unknown categories in columns [0] during transform. These unknown categories will be encoded as all zeros\n",
      "  warnings.warn(\n"
     ]
    },
    {
     "name": "stdout",
     "output_type": "stream",
     "text": [
      "mean r2: train = 0.8218439957666304, test = 0.715486548962476\n",
      "mean MSE: train = 565.7235624661625, test = 673.2179405071981\n",
      "mean MAE: train = 11.237894464960766, test = 12.518921495553387\n",
      "1965\n"
     ]
    },
    {
     "name": "stderr",
     "output_type": "stream",
     "text": [
      "/usr/lib/python3.10/site-packages/sklearn/preprocessing/_encoders.py:182: UserWarning: Found unknown categories in columns [0] during transform. These unknown categories will be encoded as all zeros\n",
      "  warnings.warn(\n",
      "/usr/lib/python3.10/site-packages/sklearn/preprocessing/_encoders.py:182: UserWarning: Found unknown categories in columns [0] during transform. These unknown categories will be encoded as all zeros\n",
      "  warnings.warn(\n"
     ]
    },
    {
     "name": "stdout",
     "output_type": "stream",
     "text": [
      "mean r2: train = 0.8217877893249165, test = 0.7208115332338694\n",
      "mean MSE: train = 566.2143042644941, test = 668.1340294357957\n",
      "mean MAE: train = 11.242045657234447, test = 12.429595415502012\n",
      "1966\n"
     ]
    },
    {
     "name": "stderr",
     "output_type": "stream",
     "text": [
      "/usr/lib/python3.10/site-packages/sklearn/preprocessing/_encoders.py:182: UserWarning: Found unknown categories in columns [0] during transform. These unknown categories will be encoded as all zeros\n",
      "  warnings.warn(\n",
      "/usr/lib/python3.10/site-packages/sklearn/preprocessing/_encoders.py:182: UserWarning: Found unknown categories in columns [0] during transform. These unknown categories will be encoded as all zeros\n",
      "  warnings.warn(\n"
     ]
    },
    {
     "name": "stdout",
     "output_type": "stream",
     "text": [
      "mean r2: train = 0.8217800620025301, test = 0.7222384761320538\n",
      "mean MSE: train = 566.348803474529, test = 666.7768808799019\n",
      "mean MAE: train = 11.243342154887051, test = 12.404031591817764\n",
      "1967\n"
     ]
    },
    {
     "name": "stderr",
     "output_type": "stream",
     "text": [
      "/usr/lib/python3.10/site-packages/sklearn/preprocessing/_encoders.py:182: UserWarning: Found unknown categories in columns [0] during transform. These unknown categories will be encoded as all zeros\n",
      "  warnings.warn(\n",
      "/usr/lib/python3.10/site-packages/sklearn/preprocessing/_encoders.py:182: UserWarning: Found unknown categories in columns [0] during transform. These unknown categories will be encoded as all zeros\n",
      "  warnings.warn(\n"
     ]
    },
    {
     "name": "stdout",
     "output_type": "stream",
     "text": [
      "mean r2: train = 0.8217162753589673, test = 0.7236598999155304\n",
      "mean MSE: train = 567.2130899648248, test = 666.4373556746629\n",
      "mean MAE: train = 11.252645620382719, test = 12.393644856796142\n",
      "1968\n"
     ]
    },
    {
     "name": "stderr",
     "output_type": "stream",
     "text": [
      "/usr/lib/python3.10/site-packages/sklearn/preprocessing/_encoders.py:182: UserWarning: Found unknown categories in columns [0] during transform. These unknown categories will be encoded as all zeros\n",
      "  warnings.warn(\n",
      "/usr/lib/python3.10/site-packages/sklearn/preprocessing/_encoders.py:182: UserWarning: Found unknown categories in columns [0] during transform. These unknown categories will be encoded as all zeros\n",
      "  warnings.warn(\n"
     ]
    },
    {
     "name": "stdout",
     "output_type": "stream",
     "text": [
      "mean r2: train = 0.8216141004303011, test = 0.7282826222026791\n",
      "mean MSE: train = 568.1863881528236, test = 662.1621636972583\n",
      "mean MAE: train = 11.263918090800146, test = 12.297894866019144\n",
      "1969\n"
     ]
    },
    {
     "name": "stderr",
     "output_type": "stream",
     "text": [
      "/usr/lib/python3.10/site-packages/sklearn/preprocessing/_encoders.py:182: UserWarning: Found unknown categories in columns [0] during transform. These unknown categories will be encoded as all zeros\n",
      "  warnings.warn(\n",
      "/usr/lib/python3.10/site-packages/sklearn/preprocessing/_encoders.py:182: UserWarning: Found unknown categories in columns [0] during transform. These unknown categories will be encoded as all zeros\n",
      "  warnings.warn(\n"
     ]
    },
    {
     "name": "stdout",
     "output_type": "stream",
     "text": [
      "mean r2: train = 0.8216296952780506, test = 0.7211331146067643\n",
      "mean MSE: train = 568.5121047164356, test = 671.5364631508406\n",
      "mean MAE: train = 11.271308302852598, test = 12.491686344780517\n",
      "1970\n"
     ]
    },
    {
     "name": "stderr",
     "output_type": "stream",
     "text": [
      "/usr/lib/python3.10/site-packages/sklearn/preprocessing/_encoders.py:182: UserWarning: Found unknown categories in columns [0] during transform. These unknown categories will be encoded as all zeros\n",
      "  warnings.warn(\n",
      "/usr/lib/python3.10/site-packages/sklearn/preprocessing/_encoders.py:182: UserWarning: Found unknown categories in columns [0] during transform. These unknown categories will be encoded as all zeros\n",
      "  warnings.warn(\n"
     ]
    },
    {
     "name": "stdout",
     "output_type": "stream",
     "text": [
      "mean r2: train = 0.8216219030807272, test = 0.7220951537875739\n",
      "mean MSE: train = 568.8840981690653, test = 670.9759711885442\n",
      "mean MAE: train = 11.273255952388496, test = 12.483504905239338\n",
      "1971\n"
     ]
    },
    {
     "name": "stderr",
     "output_type": "stream",
     "text": [
      "/usr/lib/python3.10/site-packages/sklearn/preprocessing/_encoders.py:182: UserWarning: Found unknown categories in columns [0] during transform. These unknown categories will be encoded as all zeros\n",
      "  warnings.warn(\n",
      "/usr/lib/python3.10/site-packages/sklearn/preprocessing/_encoders.py:182: UserWarning: Found unknown categories in columns [0] during transform. These unknown categories will be encoded as all zeros\n",
      "  warnings.warn(\n"
     ]
    },
    {
     "name": "stdout",
     "output_type": "stream",
     "text": [
      "mean r2: train = 0.8216074463671708, test = 0.7215995044939149\n",
      "mean MSE: train = 569.0956962913035, test = 671.9318413617362\n",
      "mean MAE: train = 11.276203880906777, test = 12.537012322595608\n",
      "1972\n"
     ]
    },
    {
     "name": "stderr",
     "output_type": "stream",
     "text": [
      "/usr/lib/python3.10/site-packages/sklearn/preprocessing/_encoders.py:182: UserWarning: Found unknown categories in columns [0] during transform. These unknown categories will be encoded as all zeros\n",
      "  warnings.warn(\n",
      "/usr/lib/python3.10/site-packages/sklearn/preprocessing/_encoders.py:182: UserWarning: Found unknown categories in columns [0] during transform. These unknown categories will be encoded as all zeros\n",
      "  warnings.warn(\n"
     ]
    },
    {
     "name": "stdout",
     "output_type": "stream",
     "text": [
      "mean r2: train = 0.8217721364906938, test = 0.7271104911217374\n",
      "mean MSE: train = 569.4693603790515, test = 666.1460212084114\n",
      "mean MAE: train = 11.258186393559916, test = 12.392168864234113\n",
      "1973\n"
     ]
    },
    {
     "name": "stderr",
     "output_type": "stream",
     "text": [
      "/usr/lib/python3.10/site-packages/sklearn/preprocessing/_encoders.py:182: UserWarning: Found unknown categories in columns [0] during transform. These unknown categories will be encoded as all zeros\n",
      "  warnings.warn(\n",
      "/usr/lib/python3.10/site-packages/sklearn/preprocessing/_encoders.py:182: UserWarning: Found unknown categories in columns [0] during transform. These unknown categories will be encoded as all zeros\n",
      "  warnings.warn(\n"
     ]
    },
    {
     "name": "stdout",
     "output_type": "stream",
     "text": [
      "mean r2: train = 0.8217651551241953, test = 0.7272167910659192\n",
      "mean MSE: train = 569.542292941451, test = 666.0669749284677\n",
      "mean MAE: train = 11.258816961865268, test = 12.394761970821525\n",
      "1974\n"
     ]
    },
    {
     "name": "stderr",
     "output_type": "stream",
     "text": [
      "/usr/lib/python3.10/site-packages/sklearn/preprocessing/_encoders.py:182: UserWarning: Found unknown categories in columns [0] during transform. These unknown categories will be encoded as all zeros\n",
      "  warnings.warn(\n",
      "/usr/lib/python3.10/site-packages/sklearn/preprocessing/_encoders.py:182: UserWarning: Found unknown categories in columns [0] during transform. These unknown categories will be encoded as all zeros\n",
      "  warnings.warn(\n"
     ]
    },
    {
     "name": "stdout",
     "output_type": "stream",
     "text": [
      "mean r2: train = 0.8217894551879026, test = 0.725110215282586\n",
      "mean MSE: train = 569.6548653333509, test = 668.5098540672501\n",
      "mean MAE: train = 11.254448484075306, test = 12.451924190743522\n",
      "1975\n"
     ]
    },
    {
     "name": "stderr",
     "output_type": "stream",
     "text": [
      "/usr/lib/python3.10/site-packages/sklearn/preprocessing/_encoders.py:182: UserWarning: Found unknown categories in columns [0] during transform. These unknown categories will be encoded as all zeros\n",
      "  warnings.warn(\n",
      "/usr/lib/python3.10/site-packages/sklearn/preprocessing/_encoders.py:182: UserWarning: Found unknown categories in columns [0] during transform. These unknown categories will be encoded as all zeros\n",
      "  warnings.warn(\n",
      "/usr/lib/python3.10/site-packages/sklearn/preprocessing/_encoders.py:182: UserWarning: Found unknown categories in columns [0] during transform. These unknown categories will be encoded as all zeros\n",
      "  warnings.warn(\n"
     ]
    },
    {
     "name": "stdout",
     "output_type": "stream",
     "text": [
      "mean r2: train = 0.8044637348522391, test = 0.6601000438032436\n",
      "mean MSE: train = 626.9043685361888, test = 805.3214933323572\n",
      "mean MAE: train = 12.78623748597047, test = 15.058393421750177\n",
      "1976\n"
     ]
    },
    {
     "name": "stderr",
     "output_type": "stream",
     "text": [
      "/usr/lib/python3.10/site-packages/sklearn/preprocessing/_encoders.py:182: UserWarning: Found unknown categories in columns [0] during transform. These unknown categories will be encoded as all zeros\n",
      "  warnings.warn(\n"
     ]
    },
    {
     "name": "stdout",
     "output_type": "stream",
     "text": [
      "mean r2: train = 0.8217802867472365, test = 0.7263910828362016\n",
      "mean MSE: train = 569.9307587272408, test = 667.5260566478657\n",
      "mean MAE: train = 11.257118182012265, test = 12.43631563325008\n",
      "1977\n"
     ]
    },
    {
     "name": "stderr",
     "output_type": "stream",
     "text": [
      "/usr/lib/python3.10/site-packages/sklearn/preprocessing/_encoders.py:182: UserWarning: Found unknown categories in columns [0] during transform. These unknown categories will be encoded as all zeros\n",
      "  warnings.warn(\n",
      "/usr/lib/python3.10/site-packages/sklearn/preprocessing/_encoders.py:182: UserWarning: Found unknown categories in columns [0] during transform. These unknown categories will be encoded as all zeros\n",
      "  warnings.warn(\n"
     ]
    },
    {
     "name": "stdout",
     "output_type": "stream",
     "text": [
      "mean r2: train = 0.8222316620947293, test = 0.7278288468185562\n",
      "mean MSE: train = 568.9372725591354, test = 665.6312734786353\n",
      "mean MAE: train = 11.238076453340781, test = 12.406129786560019\n",
      "1978\n"
     ]
    },
    {
     "name": "stderr",
     "output_type": "stream",
     "text": [
      "/usr/lib/python3.10/site-packages/sklearn/preprocessing/_encoders.py:182: UserWarning: Found unknown categories in columns [0] during transform. These unknown categories will be encoded as all zeros\n",
      "  warnings.warn(\n",
      "/usr/lib/python3.10/site-packages/sklearn/preprocessing/_encoders.py:182: UserWarning: Found unknown categories in columns [0] during transform. These unknown categories will be encoded as all zeros\n",
      "  warnings.warn(\n"
     ]
    },
    {
     "name": "stdout",
     "output_type": "stream",
     "text": [
      "mean r2: train = 0.8222372000380712, test = 0.7279072208232931\n",
      "mean MSE: train = 569.0754127282603, test = 665.9708498111646\n",
      "mean MAE: train = 11.239647344923052, test = 12.418237954402475\n",
      "1979\n"
     ]
    },
    {
     "name": "stderr",
     "output_type": "stream",
     "text": [
      "/usr/lib/python3.10/site-packages/sklearn/preprocessing/_encoders.py:182: UserWarning: Found unknown categories in columns [0] during transform. These unknown categories will be encoded as all zeros\n",
      "  warnings.warn(\n",
      "/usr/lib/python3.10/site-packages/sklearn/preprocessing/_encoders.py:182: UserWarning: Found unknown categories in columns [0] during transform. These unknown categories will be encoded as all zeros\n",
      "  warnings.warn(\n"
     ]
    },
    {
     "name": "stdout",
     "output_type": "stream",
     "text": [
      "mean r2: train = 0.8222864225454488, test = 0.7297023076437548\n",
      "mean MSE: train = 569.4000915503646, test = 664.5890792901557\n",
      "mean MAE: train = 11.243752172882045, test = 12.404141464540864\n",
      "1980\n"
     ]
    },
    {
     "name": "stderr",
     "output_type": "stream",
     "text": [
      "/usr/lib/python3.10/site-packages/sklearn/preprocessing/_encoders.py:182: UserWarning: Found unknown categories in columns [0] during transform. These unknown categories will be encoded as all zeros\n",
      "  warnings.warn(\n",
      "/usr/lib/python3.10/site-packages/sklearn/preprocessing/_encoders.py:182: UserWarning: Found unknown categories in columns [0] during transform. These unknown categories will be encoded as all zeros\n",
      "  warnings.warn(\n"
     ]
    },
    {
     "name": "stdout",
     "output_type": "stream",
     "text": [
      "mean r2: train = 0.8225802047762196, test = 0.7292581854301362\n",
      "mean MSE: train = 568.6901892139757, test = 664.9760468289609\n",
      "mean MAE: train = 11.233609832399077, test = 12.427670060565124\n",
      "1981\n"
     ]
    },
    {
     "name": "stderr",
     "output_type": "stream",
     "text": [
      "/usr/lib/python3.10/site-packages/sklearn/preprocessing/_encoders.py:182: UserWarning: Found unknown categories in columns [0] during transform. These unknown categories will be encoded as all zeros\n",
      "  warnings.warn(\n",
      "/usr/lib/python3.10/site-packages/sklearn/preprocessing/_encoders.py:182: UserWarning: Found unknown categories in columns [0] during transform. These unknown categories will be encoded as all zeros\n",
      "  warnings.warn(\n"
     ]
    },
    {
     "name": "stdout",
     "output_type": "stream",
     "text": [
      "mean r2: train = 0.8231362408196707, test = 0.7313405640272475\n",
      "mean MSE: train = 568.5770476403388, test = 664.4577162833341\n",
      "mean MAE: train = 11.22710176061567, test = 12.471656507201015\n",
      "1982\n"
     ]
    },
    {
     "name": "stderr",
     "output_type": "stream",
     "text": [
      "/usr/lib/python3.10/site-packages/sklearn/preprocessing/_encoders.py:182: UserWarning: Found unknown categories in columns [0] during transform. These unknown categories will be encoded as all zeros\n",
      "  warnings.warn(\n",
      "/usr/lib/python3.10/site-packages/sklearn/preprocessing/_encoders.py:182: UserWarning: Found unknown categories in columns [0] during transform. These unknown categories will be encoded as all zeros\n",
      "  warnings.warn(\n"
     ]
    },
    {
     "name": "stdout",
     "output_type": "stream",
     "text": [
      "mean r2: train = 0.8232780788642275, test = 0.7313854857022372\n",
      "mean MSE: train = 569.1029337334583, test = 665.4412587582975\n",
      "mean MAE: train = 11.223526223554193, test = 12.506221578461865\n",
      "1983\n"
     ]
    },
    {
     "name": "stderr",
     "output_type": "stream",
     "text": [
      "/usr/lib/python3.10/site-packages/sklearn/preprocessing/_encoders.py:182: UserWarning: Found unknown categories in columns [0] during transform. These unknown categories will be encoded as all zeros\n",
      "  warnings.warn(\n",
      "/usr/lib/python3.10/site-packages/sklearn/preprocessing/_encoders.py:182: UserWarning: Found unknown categories in columns [0] during transform. These unknown categories will be encoded as all zeros\n",
      "  warnings.warn(\n"
     ]
    },
    {
     "name": "stdout",
     "output_type": "stream",
     "text": [
      "mean r2: train = 0.8232360541977453, test = 0.7327497070204265\n",
      "mean MSE: train = 569.5285718058307, test = 664.0523934892774\n",
      "mean MAE: train = 11.230927820095701, test = 12.460506906120274\n",
      "1984\n"
     ]
    },
    {
     "name": "stderr",
     "output_type": "stream",
     "text": [
      "/usr/lib/python3.10/site-packages/sklearn/preprocessing/_encoders.py:182: UserWarning: Found unknown categories in columns [0] during transform. These unknown categories will be encoded as all zeros\n",
      "  warnings.warn(\n",
      "/usr/lib/python3.10/site-packages/sklearn/preprocessing/_encoders.py:182: UserWarning: Found unknown categories in columns [0] during transform. These unknown categories will be encoded as all zeros\n",
      "  warnings.warn(\n"
     ]
    },
    {
     "name": "stdout",
     "output_type": "stream",
     "text": [
      "mean r2: train = 0.8233931732143839, test = 0.7329490087208812\n",
      "mean MSE: train = 569.2496896877878, test = 664.0121973962216\n",
      "mean MAE: train = 11.225790893390492, test = 12.461876348594966\n",
      "1985\n"
     ]
    },
    {
     "name": "stderr",
     "output_type": "stream",
     "text": [
      "/usr/lib/python3.10/site-packages/sklearn/preprocessing/_encoders.py:182: UserWarning: Found unknown categories in columns [0] during transform. These unknown categories will be encoded as all zeros\n",
      "  warnings.warn(\n",
      "/usr/lib/python3.10/site-packages/sklearn/preprocessing/_encoders.py:182: UserWarning: Found unknown categories in columns [0] during transform. These unknown categories will be encoded as all zeros\n",
      "  warnings.warn(\n",
      "/usr/lib/python3.10/site-packages/sklearn/preprocessing/_encoders.py:182: UserWarning: Found unknown categories in columns [0] during transform. These unknown categories will be encoded as all zeros\n",
      "  warnings.warn(\n"
     ]
    },
    {
     "name": "stdout",
     "output_type": "stream",
     "text": [
      "mean r2: train = 0.823449723111976, test = 0.7302549669565622\n",
      "mean MSE: train = 570.2320222876978, test = 668.0298213316566\n",
      "mean MAE: train = 11.235505224403095, test = 12.556405409951775\n",
      "1986\n"
     ]
    },
    {
     "name": "stderr",
     "output_type": "stream",
     "text": [
      "/usr/lib/python3.10/site-packages/sklearn/preprocessing/_encoders.py:182: UserWarning: Found unknown categories in columns [0] during transform. These unknown categories will be encoded as all zeros\n",
      "  warnings.warn(\n"
     ]
    },
    {
     "name": "stdout",
     "output_type": "stream",
     "text": [
      "mean r2: train = 0.8236279472784089, test = 0.736563959485005\n",
      "mean MSE: train = 571.4570810315614, test = 660.9118095414404\n",
      "mean MAE: train = 11.24198324379387, test = 12.530801249175164\n",
      "1987\n"
     ]
    },
    {
     "name": "stderr",
     "output_type": "stream",
     "text": [
      "/usr/lib/python3.10/site-packages/sklearn/preprocessing/_encoders.py:182: UserWarning: Found unknown categories in columns [0] during transform. These unknown categories will be encoded as all zeros\n",
      "  warnings.warn(\n",
      "/usr/lib/python3.10/site-packages/sklearn/preprocessing/_encoders.py:182: UserWarning: Found unknown categories in columns [0] during transform. These unknown categories will be encoded as all zeros\n",
      "  warnings.warn(\n",
      "/usr/lib/python3.10/site-packages/sklearn/preprocessing/_encoders.py:182: UserWarning: Found unknown categories in columns [0] during transform. These unknown categories will be encoded as all zeros\n",
      "  warnings.warn(\n"
     ]
    },
    {
     "name": "stdout",
     "output_type": "stream",
     "text": [
      "mean r2: train = 0.8242276807134117, test = 0.7375100240723231\n",
      "mean MSE: train = 570.7952812189676, test = 663.7505340973352\n",
      "mean MAE: train = 11.22640972589144, test = 12.592978327460495\n",
      "1988\n"
     ]
    },
    {
     "name": "stderr",
     "output_type": "stream",
     "text": [
      "/usr/lib/python3.10/site-packages/sklearn/preprocessing/_encoders.py:182: UserWarning: Found unknown categories in columns [0] during transform. These unknown categories will be encoded as all zeros\n",
      "  warnings.warn(\n"
     ]
    },
    {
     "name": "stdout",
     "output_type": "stream",
     "text": [
      "mean r2: train = 0.8241480434040872, test = 0.7396238502443686\n",
      "mean MSE: train = 573.187968012115, test = 663.0627181769374\n",
      "mean MAE: train = 11.263732939748346, test = 12.549649831884423\n",
      "1989\n"
     ]
    },
    {
     "name": "stderr",
     "output_type": "stream",
     "text": [
      "/usr/lib/python3.10/site-packages/sklearn/preprocessing/_encoders.py:182: UserWarning: Found unknown categories in columns [0] during transform. These unknown categories will be encoded as all zeros\n",
      "  warnings.warn(\n",
      "/usr/lib/python3.10/site-packages/sklearn/preprocessing/_encoders.py:182: UserWarning: Found unknown categories in columns [0] during transform. These unknown categories will be encoded as all zeros\n",
      "  warnings.warn(\n"
     ]
    },
    {
     "name": "stdout",
     "output_type": "stream",
     "text": [
      "mean r2: train = 0.824183441572028, test = 0.7389560915430572\n",
      "mean MSE: train = 574.0502332882631, test = 664.9894861623601\n",
      "mean MAE: train = 11.270036831495606, test = 12.58817065190065\n",
      "1990\n"
     ]
    },
    {
     "name": "stderr",
     "output_type": "stream",
     "text": [
      "/usr/lib/python3.10/site-packages/sklearn/preprocessing/_encoders.py:182: UserWarning: Found unknown categories in columns [0] during transform. These unknown categories will be encoded as all zeros\n",
      "  warnings.warn(\n",
      "/usr/lib/python3.10/site-packages/sklearn/preprocessing/_encoders.py:182: UserWarning: Found unknown categories in columns [0] during transform. These unknown categories will be encoded as all zeros\n",
      "  warnings.warn(\n"
     ]
    },
    {
     "name": "stdout",
     "output_type": "stream",
     "text": [
      "mean r2: train = 0.8240622852016045, test = 0.7321696674843123\n",
      "mean MSE: train = 576.7531875599773, test = 678.0329788487079\n",
      "mean MAE: train = 11.307685323636607, test = 12.832476159551618\n",
      "1991\n"
     ]
    },
    {
     "name": "stderr",
     "output_type": "stream",
     "text": [
      "/usr/lib/python3.10/site-packages/sklearn/preprocessing/_encoders.py:182: UserWarning: Found unknown categories in columns [0] during transform. These unknown categories will be encoded as all zeros\n",
      "  warnings.warn(\n",
      "/usr/lib/python3.10/site-packages/sklearn/preprocessing/_encoders.py:182: UserWarning: Found unknown categories in columns [0] during transform. These unknown categories will be encoded as all zeros\n",
      "  warnings.warn(\n"
     ]
    },
    {
     "name": "stdout",
     "output_type": "stream",
     "text": [
      "mean r2: train = 0.8239963993767434, test = 0.7305247475687798\n",
      "mean MSE: train = 578.6635397121304, test = 681.429051697806\n",
      "mean MAE: train = 11.323978194835052, test = 12.887051571958338\n",
      "1992\n"
     ]
    },
    {
     "name": "stderr",
     "output_type": "stream",
     "text": [
      "/usr/lib/python3.10/site-packages/sklearn/preprocessing/_encoders.py:182: UserWarning: Found unknown categories in columns [0] during transform. These unknown categories will be encoded as all zeros\n",
      "  warnings.warn(\n"
     ]
    },
    {
     "name": "stdout",
     "output_type": "stream",
     "text": [
      "mean r2: train = 0.8242573098950304, test = 0.7331654099672162\n",
      "mean MSE: train = 580.4159418606807, test = 678.913936739505\n",
      "mean MAE: train = 11.33652666153694, test = 12.856666039099599\n",
      "1993\n"
     ]
    },
    {
     "name": "stderr",
     "output_type": "stream",
     "text": [
      "/usr/lib/python3.10/site-packages/sklearn/preprocessing/_encoders.py:182: UserWarning: Found unknown categories in columns [0] during transform. These unknown categories will be encoded as all zeros\n",
      "  warnings.warn(\n",
      "/usr/lib/python3.10/site-packages/sklearn/preprocessing/_encoders.py:182: UserWarning: Found unknown categories in columns [0] during transform. These unknown categories will be encoded as all zeros\n",
      "  warnings.warn(\n"
     ]
    },
    {
     "name": "stdout",
     "output_type": "stream",
     "text": [
      "mean r2: train = 0.8242768782989639, test = 0.7327191529825685\n",
      "mean MSE: train = 583.2637788221787, test = 687.9069265700522\n",
      "mean MAE: train = 11.363277730651943, test = 13.065606556228712\n",
      "1994\n"
     ]
    },
    {
     "name": "stderr",
     "output_type": "stream",
     "text": [
      "/usr/lib/python3.10/site-packages/sklearn/preprocessing/_encoders.py:182: UserWarning: Found unknown categories in columns [0] during transform. These unknown categories will be encoded as all zeros\n",
      "  warnings.warn(\n",
      "/usr/lib/python3.10/site-packages/sklearn/preprocessing/_encoders.py:182: UserWarning: Found unknown categories in columns [0] during transform. These unknown categories will be encoded as all zeros\n",
      "  warnings.warn(\n"
     ]
    },
    {
     "name": "stdout",
     "output_type": "stream",
     "text": [
      "mean r2: train = 0.825563889925552, test = 0.7167437340415864\n",
      "mean MSE: train = 583.3161197099136, test = 781.1748931196664\n",
      "mean MAE: train = 11.371460184188006, test = 14.116227473781397\n",
      "1995\n"
     ]
    },
    {
     "name": "stderr",
     "output_type": "stream",
     "text": [
      "/usr/lib/python3.10/site-packages/sklearn/preprocessing/_encoders.py:182: UserWarning: Found unknown categories in columns [0] during transform. These unknown categories will be encoded as all zeros\n",
      "  warnings.warn(\n",
      "/usr/lib/python3.10/site-packages/sklearn/preprocessing/_encoders.py:182: UserWarning: Found unknown categories in columns [0] during transform. These unknown categories will be encoded as all zeros\n",
      "  warnings.warn(\n"
     ]
    },
    {
     "name": "stdout",
     "output_type": "stream",
     "text": [
      "mean r2: train = 0.825934698409062, test = 0.7206906939458838\n",
      "mean MSE: train = 584.5299503545249, test = 780.1960906994369\n",
      "mean MAE: train = 11.395346085779863, test = 14.025262425479685\n",
      "1996\n"
     ]
    },
    {
     "name": "stderr",
     "output_type": "stream",
     "text": [
      "/usr/lib/python3.10/site-packages/sklearn/preprocessing/_encoders.py:182: UserWarning: Found unknown categories in columns [0] during transform. These unknown categories will be encoded as all zeros\n",
      "  warnings.warn(\n",
      "/usr/lib/python3.10/site-packages/sklearn/preprocessing/_encoders.py:182: UserWarning: Found unknown categories in columns [0] during transform. These unknown categories will be encoded as all zeros\n",
      "  warnings.warn(\n"
     ]
    },
    {
     "name": "stdout",
     "output_type": "stream",
     "text": [
      "mean r2: train = 0.8270420166816095, test = 0.7338633698094468\n",
      "mean MSE: train = 585.4816355700593, test = 770.1714054193149\n",
      "mean MAE: train = 11.404574005039883, test = 13.716995026021475\n",
      "1997\n"
     ]
    },
    {
     "name": "stderr",
     "output_type": "stream",
     "text": [
      "/usr/lib/python3.10/site-packages/sklearn/preprocessing/_encoders.py:182: UserWarning: Found unknown categories in columns [0] during transform. These unknown categories will be encoded as all zeros\n",
      "  warnings.warn(\n",
      "/usr/lib/python3.10/site-packages/sklearn/preprocessing/_encoders.py:182: UserWarning: Found unknown categories in columns [0] during transform. These unknown categories will be encoded as all zeros\n",
      "  warnings.warn(\n"
     ]
    },
    {
     "name": "stdout",
     "output_type": "stream",
     "text": [
      "mean r2: train = 0.8268022065861758, test = 0.7431718134112134\n",
      "mean MSE: train = 592.3427251928581, test = 770.8398821731992\n",
      "mean MAE: train = 11.462613502724832, test = 13.188039161714949\n",
      "1998\n"
     ]
    },
    {
     "name": "stderr",
     "output_type": "stream",
     "text": [
      "/usr/lib/python3.10/site-packages/sklearn/preprocessing/_encoders.py:182: UserWarning: Found unknown categories in columns [0] during transform. These unknown categories will be encoded as all zeros\n",
      "  warnings.warn(\n",
      "/usr/lib/python3.10/site-packages/sklearn/preprocessing/_encoders.py:182: UserWarning: Found unknown categories in columns [0] during transform. These unknown categories will be encoded as all zeros\n",
      "  warnings.warn(\n"
     ]
    },
    {
     "name": "stdout",
     "output_type": "stream",
     "text": [
      "mean r2: train = 0.8277802620084029, test = 0.7519549188970314\n",
      "mean MSE: train = 596.8047235433745, test = 772.3898654935698\n",
      "mean MAE: train = 11.503560435439457, test = 12.950960860846019\n",
      "1999\n"
     ]
    },
    {
     "name": "stderr",
     "output_type": "stream",
     "text": [
      "/usr/lib/python3.10/site-packages/sklearn/preprocessing/_encoders.py:182: UserWarning: Found unknown categories in columns [0] during transform. These unknown categories will be encoded as all zeros\n",
      "  warnings.warn(\n",
      "/usr/lib/python3.10/site-packages/sklearn/preprocessing/_encoders.py:182: UserWarning: Found unknown categories in columns [0] during transform. These unknown categories will be encoded as all zeros\n",
      "  warnings.warn(\n"
     ]
    },
    {
     "name": "stdout",
     "output_type": "stream",
     "text": [
      "mean r2: train = 0.8303849766646344, test = 0.7814872976086866\n",
      "mean MSE: train = 596.83279523022, test = 645.050598326024\n",
      "mean MAE: train = 11.481511662490144, test = 11.872422308429359\n",
      "2000\n"
     ]
    },
    {
     "name": "stderr",
     "output_type": "stream",
     "text": [
      "/usr/lib/python3.10/site-packages/sklearn/preprocessing/_encoders.py:182: UserWarning: Found unknown categories in columns [0] during transform. These unknown categories will be encoded as all zeros\n",
      "  warnings.warn(\n",
      "/usr/lib/python3.10/site-packages/sklearn/preprocessing/_encoders.py:182: UserWarning: Found unknown categories in columns [0] during transform. These unknown categories will be encoded as all zeros\n",
      "  warnings.warn(\n"
     ]
    },
    {
     "name": "stdout",
     "output_type": "stream",
     "text": [
      "mean r2: train = 0.8316515301927639, test = 0.7883915801163701\n",
      "mean MSE: train = 599.7402380053101, test = 652.7344557738403\n",
      "mean MAE: train = 11.486093338294165, test = 11.998376026644625\n",
      "2001\n"
     ]
    },
    {
     "name": "stderr",
     "output_type": "stream",
     "text": [
      "/usr/lib/python3.10/site-packages/sklearn/preprocessing/_encoders.py:182: UserWarning: Found unknown categories in columns [0] during transform. These unknown categories will be encoded as all zeros\n",
      "  warnings.warn(\n",
      "/usr/lib/python3.10/site-packages/sklearn/preprocessing/_encoders.py:182: UserWarning: Found unknown categories in columns [0] during transform. These unknown categories will be encoded as all zeros\n",
      "  warnings.warn(\n"
     ]
    },
    {
     "name": "stdout",
     "output_type": "stream",
     "text": [
      "mean r2: train = 0.8331673737889946, test = 0.7858570078369601\n",
      "mean MSE: train = 601.85628202977, test = 678.1311635611097\n",
      "mean MAE: train = 11.456782103397208, test = 12.463811652132907\n",
      "2002\n"
     ]
    },
    {
     "name": "stderr",
     "output_type": "stream",
     "text": [
      "/usr/lib/python3.10/site-packages/sklearn/preprocessing/_encoders.py:182: UserWarning: Found unknown categories in columns [0] during transform. These unknown categories will be encoded as all zeros\n",
      "  warnings.warn(\n",
      "/usr/lib/python3.10/site-packages/sklearn/preprocessing/_encoders.py:182: UserWarning: Found unknown categories in columns [0] during transform. These unknown categories will be encoded as all zeros\n",
      "  warnings.warn(\n"
     ]
    },
    {
     "name": "stdout",
     "output_type": "stream",
     "text": [
      "mean r2: train = 0.8341864739649774, test = 0.7873896192675482\n",
      "mean MSE: train = 606.2938250797904, test = 680.8904203641149\n",
      "mean MAE: train = 11.490070313097197, test = 12.444695705524156\n",
      "2003\n"
     ]
    },
    {
     "name": "stderr",
     "output_type": "stream",
     "text": [
      "/usr/lib/python3.10/site-packages/sklearn/preprocessing/_encoders.py:182: UserWarning: Found unknown categories in columns [0] during transform. These unknown categories will be encoded as all zeros\n",
      "  warnings.warn(\n",
      "/usr/lib/python3.10/site-packages/sklearn/preprocessing/_encoders.py:182: UserWarning: Found unknown categories in columns [0] during transform. These unknown categories will be encoded as all zeros\n",
      "  warnings.warn(\n"
     ]
    },
    {
     "name": "stdout",
     "output_type": "stream",
     "text": [
      "mean r2: train = 0.8368710327223956, test = 0.7967360217108337\n",
      "mean MSE: train = 605.8301454956046, test = 675.9872374098248\n",
      "mean MAE: train = 11.447882279653307, test = 12.237403939347024\n",
      "2004\n"
     ]
    },
    {
     "name": "stderr",
     "output_type": "stream",
     "text": [
      "/usr/lib/python3.10/site-packages/sklearn/preprocessing/_encoders.py:182: UserWarning: Found unknown categories in columns [0] during transform. These unknown categories will be encoded as all zeros\n",
      "  warnings.warn(\n"
     ]
    },
    {
     "name": "stdout",
     "output_type": "stream",
     "text": [
      "mean r2: train = 0.8381985850190187, test = 0.7861808953158416\n",
      "mean MSE: train = 612.122991213919, test = 719.9648582317875\n",
      "mean MAE: train = 11.493065013467065, test = 12.844463586231688\n",
      "2005\n"
     ]
    },
    {
     "name": "stderr",
     "output_type": "stream",
     "text": [
      "/usr/lib/python3.10/site-packages/sklearn/preprocessing/_encoders.py:182: UserWarning: Found unknown categories in columns [0] during transform. These unknown categories will be encoded as all zeros\n",
      "  warnings.warn(\n"
     ]
    },
    {
     "name": "stdout",
     "output_type": "stream",
     "text": [
      "mean r2: train = 0.8413292962797915, test = 0.802990616175955\n",
      "mean MSE: train = 610.9166651408883, test = 693.5645771861867\n",
      "mean MAE: train = 11.463458258752906, test = 12.411896290626903\n",
      "2006\n"
     ]
    },
    {
     "name": "stderr",
     "output_type": "stream",
     "text": [
      "/usr/lib/python3.10/site-packages/sklearn/preprocessing/_encoders.py:182: UserWarning: Found unknown categories in columns [0] during transform. These unknown categories will be encoded as all zeros\n",
      "  warnings.warn(\n"
     ]
    },
    {
     "name": "stdout",
     "output_type": "stream",
     "text": [
      "mean r2: train = 0.843033702338017, test = 0.7991695770128289\n",
      "mean MSE: train = 613.2585365983444, test = 713.7276179909375\n",
      "mean MAE: train = 11.44490666689499, test = 12.699925867365309\n",
      "2007\n"
     ]
    },
    {
     "name": "stderr",
     "output_type": "stream",
     "text": [
      "/usr/lib/python3.10/site-packages/sklearn/preprocessing/_encoders.py:182: UserWarning: Found unknown categories in columns [0] during transform. These unknown categories will be encoded as all zeros\n",
      "  warnings.warn(\n"
     ]
    },
    {
     "name": "stdout",
     "output_type": "stream",
     "text": [
      "mean r2: train = 0.8473809719506862, test = 0.8056651613095269\n",
      "mean MSE: train = 606.0865257902351, test = 709.3188615720104\n",
      "mean MAE: train = 11.352312818982027, test = 12.49251421377097\n",
      "2008\n"
     ]
    },
    {
     "name": "stderr",
     "output_type": "stream",
     "text": [
      "/usr/lib/python3.10/site-packages/sklearn/preprocessing/_encoders.py:182: UserWarning: Found unknown categories in columns [0] during transform. These unknown categories will be encoded as all zeros\n",
      "  warnings.warn(\n"
     ]
    },
    {
     "name": "stdout",
     "output_type": "stream",
     "text": [
      "mean r2: train = 0.8474010010940713, test = 0.8029021363104704\n",
      "mean MSE: train = 609.1690244242927, test = 723.6807090025432\n",
      "mean MAE: train = 11.359189893695794, test = 12.394723470970193\n",
      "2009\n"
     ]
    },
    {
     "name": "stderr",
     "output_type": "stream",
     "text": [
      "/usr/lib/python3.10/site-packages/sklearn/preprocessing/_encoders.py:182: UserWarning: Found unknown categories in columns [0] during transform. These unknown categories will be encoded as all zeros\n",
      "  warnings.warn(\n"
     ]
    },
    {
     "name": "stdout",
     "output_type": "stream",
     "text": [
      "mean r2: train = 0.8468644405003565, test = 0.8171790030244992\n",
      "mean MSE: train = 619.4677219964241, test = 697.4963439433839\n",
      "mean MAE: train = 11.386022551709235, test = 11.984252065517202\n",
      "2010\n"
     ]
    },
    {
     "name": "stderr",
     "output_type": "stream",
     "text": [
      "/usr/lib/python3.10/site-packages/sklearn/preprocessing/_encoders.py:182: UserWarning: Found unknown categories in columns [0] during transform. These unknown categories will be encoded as all zeros\n",
      "  warnings.warn(\n"
     ]
    },
    {
     "name": "stdout",
     "output_type": "stream",
     "text": [
      "mean r2: train = 0.8489674071145428, test = 0.806614849942496\n",
      "mean MSE: train = 622.5718073865723, test = 752.5914221532009\n",
      "mean MAE: train = 11.416060074613446, test = 12.199312763852976\n",
      "2011\n"
     ]
    },
    {
     "name": "stderr",
     "output_type": "stream",
     "text": [
      "/usr/lib/python3.10/site-packages/sklearn/preprocessing/_encoders.py:182: UserWarning: Found unknown categories in columns [0] during transform. These unknown categories will be encoded as all zeros\n",
      "  warnings.warn(\n"
     ]
    },
    {
     "name": "stdout",
     "output_type": "stream",
     "text": [
      "mean r2: train = 0.8489538079943937, test = 0.8102125866726146\n",
      "mean MSE: train = 631.4273429826608, test = 771.7324528579795\n",
      "mean MAE: train = 11.509130443714547, test = 12.234050957806133\n",
      "2012\n"
     ]
    },
    {
     "name": "stderr",
     "output_type": "stream",
     "text": [
      "/usr/lib/python3.10/site-packages/sklearn/preprocessing/_encoders.py:182: UserWarning: Found unknown categories in columns [0] during transform. These unknown categories will be encoded as all zeros\n",
      "  warnings.warn(\n"
     ]
    },
    {
     "name": "stdout",
     "output_type": "stream",
     "text": [
      "mean r2: train = 0.8510239482438667, test = 0.8072337904299844\n",
      "mean MSE: train = 639.2328832764626, test = 808.3715514103626\n",
      "mean MAE: train = 11.650364685539664, test = 12.344167928640726\n"
     ]
    },
    {
     "data": {
      "text/plain": [
       "[<matplotlib.lines.Line2D at 0x7fd8542644f0>]"
      ]
     },
     "execution_count": 23,
     "metadata": {},
     "output_type": "execute_result"
    },
    {
     "data": {
      "image/png": "[encoded data removed]",
      "text/plain": [
       "<Figure size 640x480 with 1 Axes>"
      ]
     },
     "metadata": {},
     "output_type": "display_data"
    }
   ],
   "source": [
    "year_list=[]\n",
    "MSE_list =[]\n",
    "for year in range(int(lego_mod_df.Year_released.min()),int(lego_mod_df.Year_released.max())-10):\n",
    "    lego_mod_postdate_df = lego_mod_df[lego_mod_df.Year_released >= year]\n",
    "    y_new = lego_mod_postdate_df.Price\n",
    "    X_new = lego_mod_postdate_df.drop(['Price'], axis=1)\n",
    "    print(year)\n",
    "    \n",
    "    year_list.append(year)\n",
    "    MSE_list.append(linear_model(preprocessor,X_new,y_new))\n",
    "plt.plot(year_list, MSE_list)"
   ]
  },
  {
   "cell_type": "markdown",
   "id": "1d178a15",
   "metadata": {},
   "source": [
    "Interstingly enough the shape of the graph has completely changed!\n",
    "While we could lower the MSE of the model by cutting off in the year 1999, this would exclude a lot of data, without really having a good reason, I'll keep all of the data included.\n",
    "\n",
    "This leaves our best achieved MSE: 667.625387925952\n"
   ]
  }
 ],
 "metadata": {
  "kernelspec": {
   "display_name": "Python 3 (ipykernel)",
   "language": "python",
   "name": "python3"
  },
  "language_info": {
   "codemirror_mode": {
    "name": "ipython",
    "version": 3
   },
   "file_extension": ".py",
   "mimetype": "text/x-python",
   "name": "python",
   "nbconvert_exporter": "python",
   "pygments_lexer": "ipython3",
   "version": "3.10.9"
  }
 },
 "nbformat": 4,
 "nbformat_minor": 5
}
