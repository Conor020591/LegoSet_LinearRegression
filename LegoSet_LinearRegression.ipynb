{
 "cells": [
  {
   "cell_type": "markdown",
   "id": "c32d51b2",
   "metadata": {},
   "source": [
    "# Predicting Lego Set Prices\n",
    "As new lego sets approach release, there are rumors and leaks, sometimes containing all of the details of the set.\n",
    "The objective of this model is to be able to predict as accurately as possible, from the available information what hte price of these sets is going to be."
   ]
  },
  {
   "cell_type": "code",
   "execution_count": 1,
   "id": "c8e79010",
   "metadata": {},
   "outputs": [
    {
     "name": "stdout",
     "output_type": "stream",
     "text": [
      "imported\n"
     ]
    }
   ],
   "source": [
    "#Imports\n",
    "import numpy as np\n",
    "import pandas as pd\n",
    "import sklearn\n",
    "from sklearn.model_selection import train_test_split\n",
    "from sklearn.linear_model import LinearRegression\n",
    "from sklearn.metrics import r2_score\n",
    "from sklearn.metrics import mean_squared_error\n",
    "from sklearn.metrics import mean_absolute_error\n",
    "from sklearn import preprocessing\n",
    "from sklearn.pipeline import Pipeline\n",
    "from sklearn.compose import ColumnTransformer\n",
    "from sklearn.model_selection import cross_validate\n",
    "from sklearn.model_selection import cross_val_score\n",
    "from sklearn.preprocessing import OneHotEncoder\n",
    "import matplotlib.pyplot as plt\n",
    "import category_encoders as ce\n",
    "from category_encoders import BinaryEncoder\n",
    "print('imported')"
   ]
  },
  {
   "cell_type": "markdown",
   "id": "9968716c",
   "metadata": {},
   "source": [
    "Here we import the data generated from the LegoEDA project. and split our training and validation dataframes into feature and targets."
   ]
  },
  {
   "cell_type": "code",
   "execution_count": 3,
   "id": "0a874c97",
   "metadata": {},
   "outputs": [],
   "source": [
    "#read in clean data\n",
    "lego_train_df = pd.read_csv('../LegoSet_EDA_DataClean/legoData_train.csv')\n",
    "lego_val_df = pd.read_csv('../LegoSet_EDA_DataClean/legoData_val.csv')\n",
    "\n",
    "\n",
    "y = lego_train_df.Price\n",
    "X = lego_train_df.drop(['Price'], axis=1)\n",
    "\n",
    "\n",
    "y_val = lego_val_df.Price\n",
    "X_val = lego_val_df.drop(['Price'], axis=1)\n",
    "\n",
    "\n",
    "\n"
   ]
  },
  {
   "cell_type": "markdown",
   "id": "f14b12ce",
   "metadata": {},
   "source": [
    "## Define model function\n",
    "Here I define a function that reads in the preprocessor and the data itself.\n",
    "It then does a cross validation to output the desired scoring parameters.\n",
    "I am going to look at three parameters, the r2, mean squared error (MSE) and mean absolute error (MAE).\n",
    "MSE will be the main gauge of how the model improves. \n",
    "MAE is just included as it is in the same scale as the input data and is more intuitive to look at."
   ]
  },
  {
   "cell_type": "code",
   "execution_count": 36,
   "id": "59dabf8d",
   "metadata": {},
   "outputs": [],
   "source": [
    "def linear_model(preprocessor,X,y):    \n",
    "\n",
    "\n",
    "    my_pipeline = Pipeline(steps=[('preprocessor', preprocessor),\n",
    "                              ('model', LinearRegression(fit_intercept=True))\n",
    "                             ])\n",
    "    \n",
    "    scoring = ['r2','neg_root_mean_squared_error']\n",
    "    scores = cross_validate(my_pipeline, X, y,\n",
    "                              cv=5,\n",
    "                              scoring=scoring,\n",
    "                              return_train_score=True)\n",
    "\n",
    "#    print(\"mean r2: train = \"+str(scores['train_r2'].mean())+\", test = \"+str(scores['test_r2'].mean()))\n",
    "#    print(\"mean RMSE: train = \"+str(-1*scores['train_neg_root_mean_squared_error'].mean())+\", test = \"+str(-1*scores['test_neg_root_mean_squared_error'].mean()))\n",
    "   \n",
    "    return -1*scores['test_neg_root_mean_squared_error'].mean()"
   ]
  },
  {
   "cell_type": "markdown",
   "id": "ddbfe0ef",
   "metadata": {},
   "source": [
    "## Preprocessing\n",
    "### Numerical Data\n",
    "I want to scall all of my variables to between 0 and 1, I first do this for only pieces, as this is the most correlated feature with price, to get a baseline of measurements for my model."
   ]
  },
  {
   "cell_type": "code",
   "execution_count": 17,
   "id": "cf152b1b",
   "metadata": {},
   "outputs": [
    {
     "name": "stdout",
     "output_type": "stream",
     "text": [
      "mean RMSE: train = 30.0637645122386, test = 29.931902252278626\n"
     ]
    },
    {
     "data": {
      "text/plain": [
       "29.931902252278626"
      ]
     },
     "execution_count": 17,
     "metadata": {},
     "output_type": "execute_result"
    }
   ],
   "source": [
    "scaler  = preprocessing.StandardScaler()\n",
    "preprocessor = ColumnTransformer(\n",
    "    transformers=[\n",
    "        ('num', scaler, ['Pieces',]),\n",
    "    ],\n",
    "    remainder = 'drop'\n",
    ")\n",
    "\n",
    "linear_model(preprocessor,X,y)  \n"
   ]
  },
  {
   "cell_type": "markdown",
   "id": "20cb25f2",
   "metadata": {},
   "source": [
    "Next I add in minifigs"
   ]
  },
  {
   "cell_type": "code",
   "execution_count": 18,
   "id": "efd2eec5",
   "metadata": {},
   "outputs": [
    {
     "name": "stdout",
     "output_type": "stream",
     "text": [
      "mean RMSE: train = 29.30346792607906, test = 29.179325437072386\n"
     ]
    },
    {
     "data": {
      "text/plain": [
       "29.179325437072386"
      ]
     },
     "execution_count": 18,
     "metadata": {},
     "output_type": "execute_result"
    }
   ],
   "source": [
    "scaler  = preprocessing.StandardScaler()\n",
    "preprocessor = ColumnTransformer(\n",
    "    transformers=[\n",
    "        ('num', scaler, ['Pieces','Minifigs']),\n",
    "    ],\n",
    "    remainder = 'drop'\n",
    ")\n",
    "linear_model(preprocessor,X,y)  "
   ]
  },
  {
   "cell_type": "markdown",
   "id": "f0002aa0",
   "metadata": {},
   "source": [
    "We can see the RMSE drops significantly.\n",
    "\n",
    "The next step is to add in release year."
   ]
  },
  {
   "cell_type": "code",
   "execution_count": 19,
   "id": "5f435465",
   "metadata": {},
   "outputs": [
    {
     "name": "stdout",
     "output_type": "stream",
     "text": [
      "mean RMSE: train = 29.273508173371813, test = 29.15197159003869\n"
     ]
    },
    {
     "data": {
      "text/plain": [
       "29.15197159003869"
      ]
     },
     "execution_count": 19,
     "metadata": {},
     "output_type": "execute_result"
    }
   ],
   "source": [
    "scaler  = preprocessing.StandardScaler()\n",
    "preprocessor = ColumnTransformer(\n",
    "    transformers=[\n",
    "        ('num', scaler, ['Pieces','Minifigs','Year_released']),\n",
    "    ],\n",
    "    remainder = 'drop'\n",
    ")\n",
    "\n",
    "linear_model(preprocessor,X,y)  "
   ]
  },
  {
   "cell_type": "markdown",
   "id": "391160fc",
   "metadata": {},
   "source": [
    "Adding polynomials to see if they improve the model"
   ]
  },
  {
   "cell_type": "code",
   "execution_count": 25,
   "id": "34b573e2",
   "metadata": {},
   "outputs": [
    {
     "name": "stdout",
     "output_type": "stream",
     "text": [
      "mean RMSE: train = 26.316617511878245, test = 28.334435179188347\n"
     ]
    },
    {
     "data": {
      "text/plain": [
       "28.334435179188347"
      ]
     },
     "execution_count": 25,
     "metadata": {},
     "output_type": "execute_result"
    }
   ],
   "source": [
    "scaler  = preprocessing.StandardScaler()\n",
    "polyn = preprocessing.PolynomialFeatures(4) \n",
    "\n",
    "numerical_transformer = Pipeline(steps=[\n",
    "    ('scale', scaler),\n",
    "    ('poly', polyn)\n",
    "])\n",
    "\n",
    "\n",
    "\n",
    "preprocessor = ColumnTransformer(\n",
    "    transformers=[('num', numerical_transformer, ['Pieces','Minifigs','Year_released']),\n",
    "        \n",
    "    ],\n",
    "    remainder = 'drop'\n",
    ")\n",
    "\n",
    "linear_model(preprocessor,X,y)  \n",
    "\n"
   ]
  },
  {
   "cell_type": "markdown",
   "id": "58643c09",
   "metadata": {},
   "source": [
    "Adding polynomials definitely improves the model. Adding 4th order polynomials reduces the test RMSE the most, however it also drastically reduces the train RMSE, this could be a sign over overfitting, and may be worth checking again at the end. For now I'll leave it at 4th order.\n",
    "\n",
    "I am going to graph the RMSE of the data vs cutout year below. (I exclude the last ten years as this would remove too much data from the pool)"
   ]
  },
  {
   "cell_type": "code",
   "execution_count": 37,
   "id": "62d4fc95",
   "metadata": {},
   "outputs": [
    {
     "data": {
      "text/plain": [
       "[<matplotlib.lines.Line2D at 0x7fa948c0ee90>]"
      ]
     },
     "execution_count": 37,
     "metadata": {},
     "output_type": "execute_result"
    },
    {
     "data": {
      "image/png": "[encoded data removed]",
      "text/plain": [
       "<Figure size 640x480 with 1 Axes>"
      ]
     },
     "metadata": {},
     "output_type": "display_data"
    }
   ],
   "source": [
    "year_list = []\n",
    "MSE_list = []\n",
    "for year in range(int(lego_train_df.Year_released.min()),int(lego_train_df.Year_released.max())-10):\n",
    "    lego_mod_postdate_df = lego_train_df[lego_train_df.Year_released >= year]\n",
    "    y_new = lego_mod_postdate_df.Price\n",
    "    X_new = lego_mod_postdate_df.drop(['Price'], axis=1)\n",
    "\n",
    "\n",
    "    scaler  = preprocessing.StandardScaler()\n",
    "    polyn = preprocessing.PolynomialFeatures(2) \n",
    "\n",
    "    numerical_transformer = Pipeline(steps=[\n",
    "        ('scale', scaler),\n",
    "        ('poly', polyn)\n",
    "    ])\n",
    "\n",
    "    preprocessor = ColumnTransformer(\n",
    "        transformers=[('num', numerical_transformer, ['Pieces','Minifigs','Year_released']),\n",
    "\n",
    "        ],\n",
    "    remainder = 'drop'\n",
    "    )\n",
    "\n",
    "    year_list.append(year)\n",
    "    MSE_list.append(linear_model(preprocessor,X_new,y_new))\n",
    "plt.plot(year_list, MSE_list)"
   ]
  },
  {
   "cell_type": "markdown",
   "id": "05d557b9",
   "metadata": {},
   "source": [
    "We see that the more data the more accurate the model."
   ]
  },
  {
   "cell_type": "code",
   "execution_count": 28,
   "id": "308abbce",
   "metadata": {},
   "outputs": [
    {
     "name": "stdout",
     "output_type": "stream",
     "text": [
      "mean RMSE: train = 26.316617511878245, test = 28.334435179188347\n"
     ]
    },
    {
     "data": {
      "text/plain": [
       "28.334435179188347"
      ]
     },
     "execution_count": 28,
     "metadata": {},
     "output_type": "execute_result"
    }
   ],
   "source": [
    "#Last time I'll define the numerical transformer, for now.\n",
    "scaler  = preprocessing.StandardScaler()\n",
    "polyn = preprocessing.PolynomialFeatures(4) \n",
    "numerical_transformer = Pipeline(steps=[\n",
    "    ('scale', scaler),\n",
    "    ('poly', polyn)\n",
    "])\n",
    "\n",
    "\n",
    "\n",
    "preprocessor = ColumnTransformer(\n",
    "    transformers=[('num', numerical_transformer, ['Pieces','Minifigs','Year_released'])\n",
    "    ],\n",
    "    remainder = 'drop'\n",
    ")\n",
    "\n",
    "linear_model(preprocessor,X,y)  \n"
   ]
  },
  {
   "cell_type": "code",
   "execution_count": 33,
   "id": "01a9985e",
   "metadata": {},
   "outputs": [
    {
     "name": "stdout",
     "output_type": "stream",
     "text": [
      "mean RMSE: train = 27.76637228205816, test = 28.462414824082696\n"
     ]
    },
    {
     "data": {
      "text/plain": [
       "28.462414824082696"
      ]
     },
     "execution_count": 33,
     "metadata": {},
     "output_type": "execute_result"
    }
   ],
   "source": [
    "#Last time I'll define the numerical transformer, for now.\n",
    "scaler  = preprocessing.StandardScaler()\n",
    "polyn = preprocessing.PolynomialFeatures(2) \n",
    "numerical_transformer = Pipeline(steps=[\n",
    "    ('scale', scaler),\n",
    "    ('poly', polyn)\n",
    "])\n",
    "\n",
    "full_numerical_transformer = ('num', numerical_transformer, ['Pieces','Minifigs','Year_released'])\n",
    "\n",
    "preprocessor = ColumnTransformer(\n",
    "    transformers=[full_numerical_transformer\n",
    "    ],\n",
    "    remainder = 'drop'\n",
    ")\n",
    "\n",
    "linear_model(preprocessor,X,y)  "
   ]
  },
  {
   "cell_type": "markdown",
   "id": "35295974",
   "metadata": {},
   "source": [
    "#### Categorical Data\n",
    "Next we will look at the categorical data.\n",
    "\n",
    "Some of these features have many unique variables, whereas some have few, as such I will test to see which are better candidates for onehot, binary and target encoding. Below is a function which tests a given feature's test RMSE and outputs which type of encoding lowers the RMSE"
   ]
  },
  {
   "cell_type": "code",
   "execution_count": 34,
   "id": "b16dbc68",
   "metadata": {},
   "outputs": [],
   "source": [
    "from sklearn.preprocessing import OneHotEncoder\n",
    "from category_encoders import TargetEncoder\n",
    "from category_encoders import BinaryEncoder\n",
    "def cat_tester(feat,full_numerical_transformer,  X, y):\n",
    "    BI_categorical_transformer = Pipeline(steps=[\n",
    "        ('Binary', BinaryEncoder(return_df=True))\n",
    "\n",
    "    ])\n",
    "    OH_categorical_transformer = Pipeline(steps=[\n",
    "        ('onehot', OneHotEncoder(handle_unknown='ignore', drop = 'first'))\n",
    "\n",
    "    ])\n",
    "\n",
    "    TAR_categorical_transformer = Pipeline(steps=[\n",
    "        ('Target', TargetEncoder())\n",
    "\n",
    "    ])\n",
    "    Encoder_Array = [OH_categorical_transformer, BI_categorical_transformer, TAR_categorical_transformer]\n",
    "    Encoder_names = [\"OneHot\",\"Binary\", \"Target\",]\n",
    "    lowest =0\n",
    "    lowest_name =''\n",
    "    for i, (encoder,encoderName) in enumerate(zip(Encoder_Array,Encoder_names)):\n",
    "\n",
    "        preprocessor = ColumnTransformer(\n",
    "            transformers=[\n",
    "                        full_numerical_transformer,\n",
    "                      ('test_cat', encoder, [feat]),\n",
    "\n",
    "            ],\n",
    "            remainder = 'drop'\n",
    "    )\n",
    "\n",
    "        rmse_score = linear_model(preprocessor,X,y)\n",
    "        if i==0:\n",
    "            lowest_name =encoderName\n",
    "            lowest = rmse_score\n",
    "        elif lowest > rmse_score:\n",
    "            lowest_name =encoderName\n",
    "            lowest = rmse_score\n",
    "#        print(encoderName+\": \"+ str(rmse_score))\n",
    "    return lowest_name, lowest\n"
   ]
  },
  {
   "cell_type": "code",
   "execution_count": 38,
   "id": "0d597830",
   "metadata": {},
   "outputs": [
    {
     "name": "stdout",
     "output_type": "stream",
     "text": [
      "Set_type: Target = 28.462660812305604\n"
     ]
    },
    {
     "name": "stderr",
     "output_type": "stream",
     "text": [
      "/usr/lib/python3.10/site-packages/sklearn/preprocessing/_encoders.py:202: UserWarning: Found unknown categories in columns [0] during transform. These unknown categories will be encoded as all zeros\n",
      "  warnings.warn(\n",
      "/usr/lib/python3.10/site-packages/sklearn/preprocessing/_encoders.py:202: UserWarning: Found unknown categories in columns [0] during transform. These unknown categories will be encoded as all zeros\n",
      "  warnings.warn(\n",
      "/usr/lib/python3.10/site-packages/sklearn/preprocessing/_encoders.py:202: UserWarning: Found unknown categories in columns [0] during transform. These unknown categories will be encoded as all zeros\n",
      "  warnings.warn(\n",
      "/usr/lib/python3.10/site-packages/sklearn/preprocessing/_encoders.py:202: UserWarning: Found unknown categories in columns [0] during transform. These unknown categories will be encoded as all zeros\n",
      "  warnings.warn(\n"
     ]
    },
    {
     "name": "stdout",
     "output_type": "stream",
     "text": [
      "Theme: OneHot = 23.280660481147716\n",
      "Theme_group: OneHot = 25.578940925025233\n"
     ]
    },
    {
     "name": "stderr",
     "output_type": "stream",
     "text": [
      "/usr/lib/python3.10/site-packages/sklearn/preprocessing/_encoders.py:202: UserWarning: Found unknown categories in columns [0] during transform. These unknown categories will be encoded as all zeros\n",
      "  warnings.warn(\n",
      "/usr/lib/python3.10/site-packages/sklearn/preprocessing/_encoders.py:202: UserWarning: Found unknown categories in columns [0] during transform. These unknown categories will be encoded as all zeros\n",
      "  warnings.warn(\n",
      "/usr/lib/python3.10/site-packages/sklearn/preprocessing/_encoders.py:202: UserWarning: Found unknown categories in columns [0] during transform. These unknown categories will be encoded as all zeros\n",
      "  warnings.warn(\n",
      "/usr/lib/python3.10/site-packages/sklearn/preprocessing/_encoders.py:202: UserWarning: Found unknown categories in columns [0] during transform. These unknown categories will be encoded as all zeros\n",
      "  warnings.warn(\n",
      "/usr/lib/python3.10/site-packages/sklearn/preprocessing/_encoders.py:202: UserWarning: Found unknown categories in columns [0] during transform. These unknown categories will be encoded as all zeros\n",
      "  warnings.warn(\n"
     ]
    },
    {
     "name": "stdout",
     "output_type": "stream",
     "text": [
      "Subtheme: Target = 27.891587769540326\n"
     ]
    }
   ],
   "source": [
    "cat_feats = [ 'Set_type', 'Theme', 'Theme_group', 'Subtheme']\n",
    "for feat in cat_feats:\n",
    "    encoder  = cat_tester(feat,full_numerical_transformer,X,y)\n",
    "    print(feat + ': ' +encoder[0] + ' = ' + str(encoder[1]))"
   ]
  },
  {
   "cell_type": "markdown",
   "id": "1040db7f",
   "metadata": {},
   "source": [
    "The RMSE for no categorical data was  27.968616471809487\n",
    "The values that just include the the numerical data and a given categorical feature, for the \"best\" encoding types are given as:\n",
    "\n",
    "Set_type: Target = 27.967237473854993\n",
    "Theme: OneHot = 23.396881822698045\n",
    "Theme_group: OneHot = 25.030535205849837\n",
    "Subtheme: Target = 27.425683648526313\n",
    "\n",
    "This shows that including each of these improves on the RMSE"
   ]
  },
  {
   "cell_type": "markdown",
   "id": "e6064a8a",
   "metadata": {},
   "source": [
    "The below run specifies our new best model (this actually excludes subtheme from the model)."
   ]
  },
  {
   "cell_type": "code",
   "execution_count": 39,
   "id": "3d8a40fa",
   "metadata": {},
   "outputs": [
    {
     "name": "stderr",
     "output_type": "stream",
     "text": [
      "/usr/lib/python3.10/site-packages/sklearn/preprocessing/_encoders.py:202: UserWarning: Found unknown categories in columns [1] during transform. These unknown categories will be encoded as all zeros\n",
      "  warnings.warn(\n",
      "/usr/lib/python3.10/site-packages/sklearn/preprocessing/_encoders.py:202: UserWarning: Found unknown categories in columns [1] during transform. These unknown categories will be encoded as all zeros\n",
      "  warnings.warn(\n",
      "/usr/lib/python3.10/site-packages/sklearn/preprocessing/_encoders.py:202: UserWarning: Found unknown categories in columns [1] during transform. These unknown categories will be encoded as all zeros\n",
      "  warnings.warn(\n",
      "/usr/lib/python3.10/site-packages/sklearn/preprocessing/_encoders.py:202: UserWarning: Found unknown categories in columns [1] during transform. These unknown categories will be encoded as all zeros\n",
      "  warnings.warn(\n"
     ]
    },
    {
     "data": {
      "text/plain": [
       "22.96259118413002"
      ]
     },
     "execution_count": 39,
     "metadata": {},
     "output_type": "execute_result"
    }
   ],
   "source": [
    "#Best Run\n",
    "OH_categorical_transformer = Pipeline(steps=[\n",
    "    ('onehot', OneHotEncoder(handle_unknown='ignore', drop = 'first'))\n",
    "    \n",
    "])\n",
    "\n",
    "TAR_categorical_transformer = Pipeline(steps=[\n",
    "    ('Target', ce.TargetEncoder())\n",
    "    \n",
    "])\n",
    "BI_categorical_transformer = Pipeline(steps=[\n",
    "    ('Binary', BinaryEncoder(return_df=True))\n",
    "    \n",
    "])\n",
    "\n",
    "\n",
    "preprocessor = ColumnTransformer(\n",
    "    transformers=[('num', numerical_transformer, ['Pieces','Minifigs','Year_released']),\n",
    "       #           ('BI_cat', BI_categorical_transformer, ['Set_type']),\n",
    "                  ('TAR_cat', TAR_categorical_transformer, ['Subtheme','Set_type']),\n",
    "                  ('OH_cat', OH_categorical_transformer, ['Theme_group', 'Theme'])\n",
    "    ],\n",
    "    remainder = 'drop'\n",
    ")\n",
    "\n",
    "linear_model(preprocessor,X,y)  "
   ]
  },
  {
   "cell_type": "markdown",
   "id": "1289e5ca",
   "metadata": {},
   "source": [
    "Now let's run a prediction on the validation set, training on the full trianing data"
   ]
  },
  {
   "cell_type": "code",
   "execution_count": 40,
   "id": "6caf8d62",
   "metadata": {},
   "outputs": [
    {
     "name": "stderr",
     "output_type": "stream",
     "text": [
      "/usr/lib/python3.10/site-packages/sklearn/preprocessing/_encoders.py:202: UserWarning: Found unknown categories in columns [1] during transform. These unknown categories will be encoded as all zeros\n",
      "  warnings.warn(\n"
     ]
    },
    {
     "data": {
      "text/plain": [
       "19.598858976246976"
      ]
     },
     "execution_count": 40,
     "metadata": {},
     "output_type": "execute_result"
    }
   ],
   "source": [
    "my_pipeline = Pipeline(steps=[('preprocessor', preprocessor),\n",
    "                              ('model', LinearRegression(fit_intercept=True))\n",
    "                             ])\n",
    "my_pipeline.fit(X, y)\n",
    "y_preds = my_pipeline.predict(X_val)\n",
    "np.sqrt(mean_squared_error(y_val, y_preds))"
   ]
  },
  {
   "cell_type": "markdown",
   "id": "24e67826",
   "metadata": {},
   "source": [
    "19.598858976246976 Not a bad result, in my next project I will look at comparing various models."
   ]
  },
  {
   "cell_type": "code",
   "execution_count": null,
   "id": "674ac8da",
   "metadata": {},
   "outputs": [],
   "source": []
  }
 ],
 "metadata": {
  "kernelspec": {
   "display_name": "Python 3 (ipykernel)",
   "language": "python",
   "name": "python3"
  },
  "language_info": {
   "codemirror_mode": {
    "name": "ipython",
    "version": 3
   },
   "file_extension": ".py",
   "mimetype": "text/x-python",
   "name": "python",
   "nbconvert_exporter": "python",
   "pygments_lexer": "ipython3",
   "version": "3.10.10"
  }
 },
 "nbformat": 4,
 "nbformat_minor": 5
}
