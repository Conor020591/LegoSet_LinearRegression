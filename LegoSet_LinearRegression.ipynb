{
 "cells": [
  {
   "cell_type": "markdown",
   "id": "c32d51b2",
   "metadata": {},
   "source": [
    "# Predicting Lego Set Prices\n",
    "As new lego sets approach release, there are rumors and leaks, sometimes containing all of the details of the set.\n",
    "The objective of this model is to be able to predict as accurately as possible, from the available information what hte price of these sets is going to be."
   ]
  },
  {
   "cell_type": "code",
   "execution_count": 1,
   "id": "c8e79010",
   "metadata": {},
   "outputs": [
    {
     "name": "stdout",
     "output_type": "stream",
     "text": [
      "imported\n"
     ]
    }
   ],
   "source": [
    "#Imports\n",
    "import numpy as np\n",
    "import pandas as pd\n",
    "import sklearn\n",
    "from sklearn.model_selection import train_test_split\n",
    "from sklearn.linear_model import LinearRegression\n",
    "from sklearn.metrics import r2_score\n",
    "from sklearn.metrics import mean_squared_error\n",
    "from sklearn.metrics import mean_absolute_error\n",
    "from sklearn import preprocessing\n",
    "from sklearn.pipeline import Pipeline\n",
    "from sklearn.compose import ColumnTransformer\n",
    "from sklearn.model_selection import cross_validate\n",
    "from sklearn.model_selection import cross_val_score\n",
    "from sklearn.preprocessing import OneHotEncoder\n",
    "import matplotlib.pyplot as plt\n",
    "import category_encoders as ce\n",
    "from category_encoders import BinaryEncoder\n",
    "print('imported')"
   ]
  },
  {
   "cell_type": "markdown",
   "id": "9968716c",
   "metadata": {},
   "source": [
    "Here we import the data generated from the LegoEDA project."
   ]
  },
  {
   "cell_type": "code",
   "execution_count": 2,
   "id": "0a874c97",
   "metadata": {},
   "outputs": [
    {
     "data": {
      "text/plain": [
       "<bound method NDFrame.head of       Unnamed: 0 Set_number                       Name Set_type       Theme  \\\n",
       "0            212      702-2            Small Basic Set   Normal   SAMSONITE   \n",
       "1            217      717-1         Junior Constructor   Normal   SAMSONITE   \n",
       "2            218      725-3                  Town Plan   Normal   SAMSONITE   \n",
       "3            279      450-2        Deluxe Building Set   Normal   SAMSONITE   \n",
       "4            281      615-1         Samsonite Gift Set   Normal   SAMSONITE   \n",
       "...          ...        ...                        ...      ...         ...   \n",
       "6787       19108    80043-1       Yellow Tusk Elephant   Normal  MONKIE KID   \n",
       "6788       19109    80044-1  Monkie Kid's Team Hideout   Normal  MONKIE KID   \n",
       "6789       19110    80045-1     Monkey King Ultra Mech   Normal  MONKIE KID   \n",
       "6790       19111    80110-1     Lunar New Year Display   Normal    SEASONAL   \n",
       "6791       19112    80111-1      Lunar New Year Parade   Normal    SEASONAL   \n",
       "\n",
       "           Theme_group                       Subtheme  Year_released  Pieces  \\\n",
       "0              Vintage                      BASIC SET         1961.0   109.0   \n",
       "1              Vintage                      BASIC SET         1961.0   510.0   \n",
       "2              Vintage                      TOWN PLAN         1961.0   711.0   \n",
       "3              Vintage                      BASIC SET         1963.0   450.0   \n",
       "4              Vintage                      BASIC SET         1963.0   615.0   \n",
       "...                ...                            ...            ...     ...   \n",
       "6787  Action/Adventure                       SEASON 4         2023.0   844.0   \n",
       "6788  Action/Adventure                       SEASON 4         2023.0  1582.0   \n",
       "6789  Action/Adventure                       SEASON 4         2023.0  1705.0   \n",
       "6790     Miscellaneous  CHINESE TRADITIONAL FESTIVALS         2023.0   872.0   \n",
       "6791     Miscellaneous  CHINESE TRADITIONAL FESTIVALS         2023.0  1653.0   \n",
       "\n",
       "      Minifigs   Price Age_range  \n",
       "0          0.0    1.95       NaN  \n",
       "1          0.0   16.95       NaN  \n",
       "2          0.0   25.00       NaN  \n",
       "3          0.0   10.95     4 - 9  \n",
       "4          0.0   14.95    5 - 10  \n",
       "...        ...     ...       ...  \n",
       "6787       5.0   79.99        8+  \n",
       "6788       6.0  139.99        9+  \n",
       "6789       6.0  159.99       10+  \n",
       "6790       0.0   89.99        8+  \n",
       "6791      18.0  129.99        8+  \n",
       "\n",
       "[6792 rows x 12 columns]>"
      ]
     },
     "execution_count": 2,
     "metadata": {},
     "output_type": "execute_result"
    }
   ],
   "source": [
    "#read in clean data\n",
    "lego_mod_df = pd.read_csv('legoData_mod.csv')\n",
    "lego_mod_df.head\n"
   ]
  },
  {
   "cell_type": "markdown",
   "id": "00d1de64",
   "metadata": {},
   "source": [
    "Just a reminder of what the data looks like"
   ]
  },
  {
   "cell_type": "code",
   "execution_count": 3,
   "id": "7a8963d2",
   "metadata": {},
   "outputs": [
    {
     "name": "stdout",
     "output_type": "stream",
     "text": [
      "Unique Set_numbers: 6792\n",
      "Nulls in Set_number: 0\n",
      "Unique Names: 6154\n",
      "Nulls in Name: 0\n",
      "Unique Set_types: 4\n",
      "Nulls in Set_type: 0\n",
      "Unique Themes: 133\n",
      "Nulls in Theme: 0\n",
      "Unique Theme_groups: 14\n",
      "Nulls in Theme_group: 0\n",
      "Unique Subthemes: 541\n",
      "Nulls in Subtheme: 0\n",
      "Unique Age_ranges: 48\n",
      "Nulls in Age_range: 2573\n"
     ]
    }
   ],
   "source": [
    "#Numerical features, without Price, which is our target variable\n",
    "lego_num_cols=['Year_released', 'Pieces', 'Minifigs']\n",
    "#Categorical features\n",
    "lego_cat_cols=['Set_number', 'Name', 'Set_type', 'Theme', 'Theme_group', 'Subtheme', 'Age_range']\n",
    "lego_num = lego_mod_df[lego_num_cols]\n",
    "lego_cat = lego_mod_df[lego_cat_cols]\n",
    "\n",
    "for i in lego_cat.columns:\n",
    "    print(\"Unique \"+ str(i)+ \"s: \"+ str(len(lego_cat[i].unique())))\n",
    "    print(\"Nulls in \"+ str(i)+ \": \"+ str(lego_cat[i].isna().sum()))"
   ]
  },
  {
   "cell_type": "markdown",
   "id": "51e5244f",
   "metadata": {},
   "source": [
    "## Split to features and target and also make validation set\n",
    "also going to shuffle the dataset and saved the shuffled set for use in other projects for comparisson\n"
   ]
  },
  {
   "cell_type": "code",
   "execution_count": 4,
   "id": "1901dd02",
   "metadata": {},
   "outputs": [],
   "source": [
    "\n",
    "lego_mod_df = lego_mod_df.sample(frac = 1)\n",
    "\n",
    "lego_mod_df.to_csv('legoData_shuffled.csv', sep = ',')\n",
    "\n",
    "from sklearn.model_selection import train_test_split\n",
    "train_set, val_set = train_test_split(lego_mod_df, test_size=0.2, random_state=0)\n",
    "\n",
    "y = train_set.Price\n",
    "X = train_set.drop(['Price'], axis=1)\n",
    "\n",
    "\n",
    "y_val = val_set.Price\n",
    "X_val = val_set.drop(['Price'], axis=1)\n"
   ]
  },
  {
   "cell_type": "markdown",
   "id": "f14b12ce",
   "metadata": {},
   "source": [
    "## Define model function\n",
    "Here I define a function that reads in the preprocessor and the data itself.\n",
    "It then does a cross validation to output the desired scoring parameters.\n",
    "I am going to look at three parameters, the r2, mean squared error (MSE) and mean absolute error (MAE).\n",
    "MSE will be the main gauge of how the model improves. \n",
    "MAE is just included as it is in the same scale as the input data and is more intuitive to look at."
   ]
  },
  {
   "cell_type": "code",
   "execution_count": 42,
   "id": "59dabf8d",
   "metadata": {},
   "outputs": [],
   "source": [
    "def linear_model(preprocessor,X,y):    \n",
    "\n",
    "\n",
    "    my_pipeline = Pipeline(steps=[('preprocessor', preprocessor),\n",
    "                              ('model', LinearRegression(fit_intercept=True))\n",
    "                             ])\n",
    "    \n",
    "    scoring = ['r2','neg_root_mean_squared_error']\n",
    "    scores = cross_validate(my_pipeline, X, y,\n",
    "                              cv=5,\n",
    "                              scoring=scoring,\n",
    "                              return_train_score=True)\n",
    "\n",
    "#    print(\"mean r2: train = \"+str(scores['train_r2'].mean())+\", test = \"+str(scores['test_r2'].mean()))\n",
    "#    print(\"mean RMSE: train = \"+str(-1*scores['train_neg_root_mean_squared_error'].mean())+\", test = \"+str(-1*scores['test_neg_root_mean_squared_error'].mean()))\n",
    "   \n",
    "    return -1*scores['test_neg_root_mean_squared_error'].mean()"
   ]
  },
  {
   "cell_type": "markdown",
   "id": "ddbfe0ef",
   "metadata": {},
   "source": [
    "## Preprocessing\n",
    "### Numerical Data\n",
    "I want to scall all of my variables to between 0 and 1, I first do this for only pieces, as this is the most correlated feature with price, to get a baseline of measurements for my model."
   ]
  },
  {
   "cell_type": "code",
   "execution_count": 6,
   "id": "cf152b1b",
   "metadata": {},
   "outputs": [
    {
     "name": "stdout",
     "output_type": "stream",
     "text": [
      "mean r2: train = 0.7354515276743151, test = 0.7270306754334104\n",
      "mean RMSE: train = 28.997860012463327, test = 29.054222564992152\n"
     ]
    },
    {
     "data": {
      "text/plain": [
       "28.997860012463327"
      ]
     },
     "execution_count": 6,
     "metadata": {},
     "output_type": "execute_result"
    }
   ],
   "source": [
    "scaler  = preprocessing.StandardScaler()\n",
    "preprocessor = ColumnTransformer(\n",
    "    transformers=[\n",
    "        ('num', scaler, ['Pieces',]),\n",
    "    ],\n",
    "    remainder = 'drop'\n",
    ")\n",
    "\n",
    "linear_model(preprocessor,X,y)  \n"
   ]
  },
  {
   "cell_type": "markdown",
   "id": "20cb25f2",
   "metadata": {},
   "source": [
    "Next I add in minifigs"
   ]
  },
  {
   "cell_type": "code",
   "execution_count": 7,
   "id": "efd2eec5",
   "metadata": {},
   "outputs": [
    {
     "name": "stdout",
     "output_type": "stream",
     "text": [
      "mean r2: train = 0.7489002947653879, test = 0.7399200301133515\n",
      "mean RMSE: train = 28.250894400119506, test = 28.342126602583573\n"
     ]
    },
    {
     "data": {
      "text/plain": [
       "28.250894400119506"
      ]
     },
     "execution_count": 7,
     "metadata": {},
     "output_type": "execute_result"
    }
   ],
   "source": [
    "scaler  = preprocessing.StandardScaler()\n",
    "preprocessor = ColumnTransformer(\n",
    "    transformers=[\n",
    "        ('num', scaler, ['Pieces','Minifigs']),\n",
    "    ],\n",
    "    remainder = 'drop'\n",
    ")\n",
    "linear_model(preprocessor,X,y)  "
   ]
  },
  {
   "cell_type": "markdown",
   "id": "f0002aa0",
   "metadata": {},
   "source": [
    "We can see the MSE and MAE drop significantly, as well as a slight increase in r2\n",
    "\n",
    "the next step is to add in release year."
   ]
  },
  {
   "cell_type": "code",
   "execution_count": 8,
   "id": "5f435465",
   "metadata": {},
   "outputs": [
    {
     "name": "stdout",
     "output_type": "stream",
     "text": [
      "mean r2: train = 0.7493007577188824, test = 0.7403554660013063\n",
      "mean RMSE: train = 28.228475952466475, test = 28.321059959505135\n"
     ]
    },
    {
     "data": {
      "text/plain": [
       "28.228475952466475"
      ]
     },
     "execution_count": 8,
     "metadata": {},
     "output_type": "execute_result"
    }
   ],
   "source": [
    "scaler  = preprocessing.StandardScaler()\n",
    "preprocessor = ColumnTransformer(\n",
    "    transformers=[\n",
    "        ('num', scaler, ['Pieces','Minifigs','Year_released']),\n",
    "    ],\n",
    "    remainder = 'drop'\n",
    ")\n",
    "\n",
    "linear_model(preprocessor,X,y)  "
   ]
  },
  {
   "cell_type": "markdown",
   "id": "391160fc",
   "metadata": {},
   "source": [
    "Adding polynomials to see if they improve the model"
   ]
  },
  {
   "cell_type": "code",
   "execution_count": 91,
   "id": "34b573e2",
   "metadata": {},
   "outputs": [
    {
     "data": {
      "text/plain": [
       "27.968616471809487"
      ]
     },
     "execution_count": 91,
     "metadata": {},
     "output_type": "execute_result"
    }
   ],
   "source": [
    "scaler  = preprocessing.StandardScaler()\n",
    "polyn = preprocessing.PolynomialFeatures(2) \n",
    "\n",
    "numerical_transformer = Pipeline(steps=[\n",
    "    ('scale', scaler),\n",
    "    ('poly', polyn)\n",
    "])\n",
    "\n",
    "\n",
    "\n",
    "preprocessor = ColumnTransformer(\n",
    "    transformers=[('num', numerical_transformer, ['Pieces','Minifigs','Year_released']),\n",
    "        \n",
    "    ],\n",
    "    remainder = 'drop'\n",
    ")\n",
    "\n",
    "linear_model(preprocessor,X,y)  \n",
    "\n"
   ]
  },
  {
   "cell_type": "markdown",
   "id": "58643c09",
   "metadata": {},
   "source": [
    "We can see that adding 2nd order polynomials decreases MAE and MSE on the test data, however going beyond this causes overfitting.\n",
    "I am going to graph the RMSE of the data vs cutout year below. (I exclude the last ten years as this would remove too much data from the pool)"
   ]
  },
  {
   "cell_type": "code",
   "execution_count": 10,
   "id": "62d4fc95",
   "metadata": {},
   "outputs": [
    {
     "name": "stdout",
     "output_type": "stream",
     "text": [
      "1961\n",
      "mean r2: train = 0.7775510789161808, test = 0.7777037282586322\n",
      "mean RMSE: train = 26.697069325745968, test = 26.49463030629597\n",
      "1962\n",
      "mean r2: train = 0.7775361652775343, test = 0.7776639862655507\n",
      "mean RMSE: train = 26.702439352300132, test = 26.501253636869063\n",
      "1963\n",
      "mean r2: train = 0.7775361652775343, test = 0.7776639862655507\n",
      "mean RMSE: train = 26.702439352300132, test = 26.501253636869063\n",
      "1964\n",
      "mean r2: train = 0.7777279095131789, test = 0.778293950509042\n",
      "mean RMSE: train = 26.69367020070893, test = 26.463282928278232\n",
      "1965\n",
      "mean r2: train = 0.7776414441226972, test = 0.7782187544302226\n",
      "mean RMSE: train = 26.706150042796317, test = 26.474509685216606\n",
      "1966\n",
      "mean r2: train = 0.7776248012072134, test = 0.7782039071358786\n",
      "mean RMSE: train = 26.709785516708724, test = 26.47826573396002\n",
      "1967\n",
      "mean r2: train = 0.7775471908500107, test = 0.7780883352281807\n",
      "mean RMSE: train = 26.730274271969243, test = 26.500569194209742\n",
      "1968\n",
      "mean r2: train = 0.777443305648735, test = 0.7779874382754294\n",
      "mean RMSE: train = 26.751684164042558, test = 26.520324120467244\n",
      "1969\n",
      "mean r2: train = 0.777414596857066, test = 0.777934169855935\n",
      "mean RMSE: train = 26.762869191504308, test = 26.53345849345821\n",
      "1970\n",
      "mean r2: train = 0.7774280254892659, test = 0.7778925736831789\n",
      "mean RMSE: train = 26.770331858467365, test = 26.544396117178785\n",
      "1971\n",
      "mean r2: train = 0.7773968272694217, test = 0.7778817425176332\n",
      "mean RMSE: train = 26.776114489535484, test = 26.54805477726536\n",
      "1972\n",
      "mean r2: train = 0.7776199047971228, test = 0.7780701918343282\n",
      "mean RMSE: train = 26.78080229773455, test = 26.554431950547144\n",
      "1973\n",
      "mean r2: train = 0.7776075969459577, test = 0.7780589679550171\n",
      "mean RMSE: train = 26.782726276268573, test = 26.555971789118864\n",
      "1974\n",
      "mean r2: train = 0.7777066428622138, test = 0.7781912575926524\n",
      "mean RMSE: train = 26.781400895331792, test = 26.552543672297872\n",
      "1975\n",
      "mean r2: train = 0.7776851157176969, test = 0.7781724349153428\n",
      "mean RMSE: train = 26.786836524631912, test = 26.557806716237177\n",
      "1976\n",
      "mean r2: train = 0.7776829860903596, test = 0.7781672990632388\n",
      "mean RMSE: train = 26.78856053307097, test = 26.559899174886215\n",
      "1977\n",
      "mean r2: train = 0.7777645575079738, test = 0.778267726237479\n",
      "mean RMSE: train = 26.79348942885382, test = 26.564831521281626\n",
      "1978\n",
      "mean r2: train = 0.7777667522164107, test = 0.7782680271539566\n",
      "mean RMSE: train = 26.796821888449198, test = 26.56757184120263\n",
      "1979\n",
      "mean r2: train = 0.7777078560730641, test = 0.7781813080277002\n",
      "mean RMSE: train = 26.81156387293915, test = 26.58401284670625\n",
      "1980\n",
      "mean r2: train = 0.7777058828899287, test = 0.7781822277976186\n",
      "mean RMSE: train = 26.816391283767977, test = 26.588531557693027\n",
      "1981\n",
      "mean r2: train = 0.7776706315590587, test = 0.7772843424673743\n",
      "mean RMSE: train = 26.855181185060758, test = 26.650245457152845\n",
      "1982\n",
      "mean r2: train = 0.7778102223760045, test = 0.7782497377426116\n",
      "mean RMSE: train = 26.872795695062212, test = 26.64512540718515\n",
      "1983\n",
      "mean r2: train = 0.7779099847266622, test = 0.778310560381432\n",
      "mean RMSE: train = 26.87370558955961, test = 26.648540922465607\n",
      "1984\n",
      "mean r2: train = 0.7779187317049698, test = 0.7783204355519183\n",
      "mean RMSE: train = 26.877956778644705, test = 26.651687120212166\n",
      "1985\n",
      "mean r2: train = 0.778046786671141, test = 0.7784054943949477\n",
      "mean RMSE: train = 26.89385610030602, test = 26.670660138860946\n",
      "1986\n",
      "mean r2: train = 0.7779650314900891, test = 0.7783211470725695\n",
      "mean RMSE: train = 26.931205785718202, test = 26.707759097732936\n",
      "1987\n",
      "mean r2: train = 0.779046898169, test = 0.7794238904211678\n",
      "mean RMSE: train = 26.8951206166086, test = 26.67047114017464\n",
      "1988\n",
      "mean r2: train = 0.7788388358151618, test = 0.7790995155968011\n",
      "mean RMSE: train = 26.95905774902139, test = 26.738310462876946\n",
      "1989\n",
      "mean r2: train = 0.7788584268152856, test = 0.7791128132226293\n",
      "mean RMSE: train = 26.980677681981582, test = 26.759330132512524\n",
      "1990\n",
      "mean r2: train = 0.7783156837256233, test = 0.7788717327310695\n",
      "mean RMSE: train = 27.06449127421356, test = 26.80445150766056\n",
      "1991\n",
      "mean r2: train = 0.7782090197661888, test = 0.7778172871152276\n",
      "mean RMSE: train = 27.109352262912928, test = 26.878758018933176\n",
      "1992\n",
      "mean r2: train = 0.7782554838462518, test = 0.7770051378913023\n",
      "mean RMSE: train = 27.162569002838744, test = 26.990024061206118\n",
      "1993\n",
      "mean r2: train = 0.7781191563232948, test = 0.77665061544051\n",
      "mean RMSE: train = 27.237084588910033, test = 27.070718222346926\n",
      "1994\n",
      "mean r2: train = 0.7777269979893824, test = 0.777235118494998\n",
      "mean RMSE: train = 27.35748544583517, test = 27.12536032345871\n",
      "1995\n",
      "mean r2: train = 0.7778096606488158, test = 0.7772848942913473\n",
      "mean RMSE: train = 27.410350284736545, test = 27.17755091426705\n",
      "1996\n",
      "mean r2: train = 0.7783413127222698, test = 0.7767797703101011\n",
      "mean RMSE: train = 27.48221043811692, test = 27.316249374641888\n",
      "1997\n",
      "mean r2: train = 0.7778302058477073, test = 0.776046951605551\n",
      "mean RMSE: train = 27.658079293406992, test = 27.492819164541118\n",
      "1998\n",
      "mean r2: train = 0.7774975692697303, test = 0.7754973844334889\n",
      "mean RMSE: train = 27.84966030656745, test = 27.693536823935666\n",
      "1999\n",
      "mean r2: train = 0.7814100594419859, test = 0.7797558329266323\n",
      "mean RMSE: train = 27.813190005355345, test = 27.598820148603625\n",
      "2000\n",
      "mean r2: train = 0.7828811296288916, test = 0.781589327318909\n",
      "mean RMSE: train = 27.887264703847013, test = 27.641228043666388\n",
      "2001\n",
      "mean r2: train = 0.7843881778417311, test = 0.7822035655930274\n",
      "mean RMSE: train = 27.958788763559845, test = 27.75974140919835\n",
      "2002\n",
      "mean r2: train = 0.7848072338640834, test = 0.7828359174225595\n",
      "mean RMSE: train = 28.120099601335426, test = 27.90739910897929\n",
      "2003\n",
      "mean r2: train = 0.7881756213121616, test = 0.7870855020224642\n",
      "mean RMSE: train = 28.11005507613665, test = 27.83697323170087\n",
      "2004\n",
      "mean r2: train = 0.7902969232662791, test = 0.7867740457642624\n",
      "mean RMSE: train = 28.222407129234348, test = 28.102561048329914\n",
      "2005\n",
      "mean r2: train = 0.7954296362622175, test = 0.7896501899930941\n",
      "mean RMSE: train = 28.09844799085987, test = 28.1090649928277\n",
      "2006\n",
      "mean r2: train = 0.796633323497567, test = 0.7927684170160564\n",
      "mean RMSE: train = 28.215889493389106, test = 28.053449147930287\n",
      "2007\n",
      "mean r2: train = 0.8012362755878808, test = 0.7958492095521668\n",
      "mean RMSE: train = 28.108826659195323, test = 28.054970748300132\n",
      "2008\n",
      "mean r2: train = 0.8014268997904604, test = 0.7974858633266331\n",
      "mean RMSE: train = 28.16739225980509, test = 28.064086721602262\n",
      "2009\n",
      "mean r2: train = 0.8030856801045949, test = 0.7948867164484517\n",
      "mean RMSE: train = 28.235037631777082, test = 28.421870871079044\n",
      "2010\n",
      "mean r2: train = 0.8069915617033725, test = 0.799112519046186\n",
      "mean RMSE: train = 28.228222744836494, test = 28.456679609653882\n",
      "2011\n",
      "mean r2: train = 0.8053711567604331, test = 0.7950636411428718\n",
      "mean RMSE: train = 28.541363075243574, test = 28.95284774614263\n",
      "2012\n",
      "mean r2: train = 0.8026078220396821, test = 0.7919938893421175\n",
      "mean RMSE: train = 29.112416547756652, test = 29.5293264194817\n"
     ]
    },
    {
     "data": {
      "text/plain": [
       "[<matplotlib.lines.Line2D at 0x7f29a29b52d0>]"
      ]
     },
     "execution_count": 10,
     "metadata": {},
     "output_type": "execute_result"
    },
    {
     "data": {
      "image/png": "[encoded data removed]",
      "text/plain": [
       "<Figure size 640x480 with 1 Axes>"
      ]
     },
     "metadata": {},
     "output_type": "display_data"
    }
   ],
   "source": [
    "year_list = []\n",
    "MSE_list = []\n",
    "for year in range(int(lego_mod_df.Year_released.min()),int(lego_mod_df.Year_released.max())-10):\n",
    "    lego_mod_postdate_df = lego_mod_df[lego_mod_df.Year_released >= year]\n",
    "    y_new = lego_mod_postdate_df.Price\n",
    "    X_new = lego_mod_postdate_df.drop(['Price'], axis=1)\n",
    "\n",
    "\n",
    "    scaler  = preprocessing.StandardScaler()\n",
    "    polyn = preprocessing.PolynomialFeatures(2) \n",
    "\n",
    "    numerical_transformer = Pipeline(steps=[\n",
    "        ('scale', scaler),\n",
    "        ('poly', polyn)\n",
    "    ])\n",
    "    print(year)\n",
    "    preprocessor = ColumnTransformer(\n",
    "        transformers=[('num', numerical_transformer, ['Pieces','Minifigs','Year_released']),\n",
    "\n",
    "        ],\n",
    "    remainder = 'drop'\n",
    "    )\n",
    "\n",
    "    year_list.append(year)\n",
    "    MSE_list.append(linear_model(preprocessor,X_new,y_new))\n",
    "plt.plot(year_list, MSE_list)"
   ]
  },
  {
   "cell_type": "markdown",
   "id": "05d557b9",
   "metadata": {},
   "source": [
    "We see that the more data the more accurate the model."
   ]
  },
  {
   "cell_type": "code",
   "execution_count": 46,
   "id": "308abbce",
   "metadata": {},
   "outputs": [
    {
     "data": {
      "text/plain": [
       "27.968616471809487"
      ]
     },
     "execution_count": 46,
     "metadata": {},
     "output_type": "execute_result"
    }
   ],
   "source": [
    "#Last time I'll define the numerical transformer, for now.\n",
    "scaler  = preprocessing.StandardScaler()\n",
    "polyn = preprocessing.PolynomialFeatures(2) \n",
    "numerical_transformer = Pipeline(steps=[\n",
    "    ('scale', scaler),\n",
    "    ('poly', polyn)\n",
    "])\n",
    "\n",
    "\n",
    "\n",
    "preprocessor = ColumnTransformer(\n",
    "    transformers=[('num', numerical_transformer, ['Pieces','Minifigs','Year_released'])\n",
    "    ],\n",
    "    remainder = 'drop'\n",
    ")\n",
    "\n",
    "linear_model(preprocessor,X,y)  \n"
   ]
  },
  {
   "cell_type": "code",
   "execution_count": 72,
   "id": "d6020073",
   "metadata": {},
   "outputs": [
    {
     "data": {
      "text/plain": [
       "27.968616471809487"
      ]
     },
     "execution_count": 72,
     "metadata": {},
     "output_type": "execute_result"
    }
   ],
   "source": [
    "#Last time I'll define the numerical transformer, for now.\n",
    "scaler  = preprocessing.StandardScaler()\n",
    "polyn = preprocessing.PolynomialFeatures(2) \n",
    "numerical_transformer = Pipeline(steps=[\n",
    "    ('scale', scaler),\n",
    "    ('poly', polyn)\n",
    "])\n",
    "\n",
    "full_numerical_transformer = ('num', numerical_transformer, ['Pieces','Minifigs','Year_released'])\n",
    "\n",
    "preprocessor = ColumnTransformer(\n",
    "    transformers=[full_numerical_transformer\n",
    "    ],\n",
    "    remainder = 'drop'\n",
    ")\n",
    "\n",
    "linear_model(preprocessor,X,y)  "
   ]
  },
  {
   "cell_type": "markdown",
   "id": "35295974",
   "metadata": {},
   "source": [
    "#### Categorical Data\n",
    "Next we will look at the categorical data.\n",
    "\n",
    "Some of these features have many unique variables, whereas some have few, as such I will test to see which are better candidates for onehot, binary and target encoding. Below is a function which tests a given feature's test RMSE and outputs which type of encoding lowers the RMSE"
   ]
  },
  {
   "cell_type": "code",
   "execution_count": 73,
   "id": "d6439d90",
   "metadata": {},
   "outputs": [],
   "source": [
    "from sklearn.preprocessing import OneHotEncoder\n",
    "from category_encoders import TargetEncoder\n",
    "from category_encoders import BinaryEncoder\n",
    "def cat_tester(feat,full_numerical_transformer,  X, y):\n",
    "    BI_categorical_transformer = Pipeline(steps=[\n",
    "        ('Binary', BinaryEncoder(return_df=True))\n",
    "\n",
    "    ])\n",
    "    OH_categorical_transformer = Pipeline(steps=[\n",
    "        ('onehot', OneHotEncoder(handle_unknown='ignore', drop = 'first'))\n",
    "\n",
    "    ])\n",
    "\n",
    "    TAR_categorical_transformer = Pipeline(steps=[\n",
    "        ('Target', TargetEncoder())\n",
    "\n",
    "    ])\n",
    "    Encoder_Array = [OH_categorical_transformer, BI_categorical_transformer, TAR_categorical_transformer]\n",
    "    Encoder_names = [\"OneHot\",\"Binary\", \"Target\",]\n",
    "    lowest =0\n",
    "    lowest_name =''\n",
    "    for i, (encoder,encoderName) in enumerate(zip(Encoder_Array,Encoder_names)):\n",
    "\n",
    "        preprocessor = ColumnTransformer(\n",
    "            transformers=[\n",
    "                        full_numerical_transformer,\n",
    "                      ('test_cat', encoder, [feat]),\n",
    "\n",
    "            ],\n",
    "            remainder = 'drop'\n",
    "    )\n",
    "\n",
    "        rmse_score = linear_model(preprocessor,X,y)\n",
    "        if i==0:\n",
    "            lowest_name =encoderName\n",
    "            lowest = rmse_score\n",
    "        elif lowest > rmse_score:\n",
    "            lowest_name =encoderName\n",
    "            lowest = rmse_score\n",
    "#        print(encoderName+\": \"+ str(rmse_score))\n",
    "    return lowest_name, lowest\n"
   ]
  },
  {
   "cell_type": "code",
   "execution_count": 77,
   "id": "e653aeef",
   "metadata": {},
   "outputs": [
    {
     "name": "stdout",
     "output_type": "stream",
     "text": [
      "Set_type: Target = 27.967237473854993\n"
     ]
    },
    {
     "name": "stderr",
     "output_type": "stream",
     "text": [
      "/usr/lib/python3.10/site-packages/sklearn/preprocessing/_encoders.py:182: UserWarning: Found unknown categories in columns [0] during transform. These unknown categories will be encoded as all zeros\n",
      "  warnings.warn(\n",
      "/usr/lib/python3.10/site-packages/sklearn/preprocessing/_encoders.py:182: UserWarning: Found unknown categories in columns [0] during transform. These unknown categories will be encoded as all zeros\n",
      "  warnings.warn(\n",
      "/usr/lib/python3.10/site-packages/sklearn/preprocessing/_encoders.py:182: UserWarning: Found unknown categories in columns [0] during transform. These unknown categories will be encoded as all zeros\n",
      "  warnings.warn(\n",
      "/usr/lib/python3.10/site-packages/sklearn/preprocessing/_encoders.py:182: UserWarning: Found unknown categories in columns [0] during transform. These unknown categories will be encoded as all zeros\n",
      "  warnings.warn(\n",
      "/usr/lib/python3.10/site-packages/sklearn/preprocessing/_encoders.py:182: UserWarning: Found unknown categories in columns [0] during transform. These unknown categories will be encoded as all zeros\n",
      "  warnings.warn(\n"
     ]
    },
    {
     "name": "stdout",
     "output_type": "stream",
     "text": [
      "Theme: OneHot = 23.396881822698045\n",
      "Theme_group: OneHot = 25.030535205849837\n"
     ]
    },
    {
     "name": "stderr",
     "output_type": "stream",
     "text": [
      "/usr/lib/python3.10/site-packages/sklearn/preprocessing/_encoders.py:182: UserWarning: Found unknown categories in columns [0] during transform. These unknown categories will be encoded as all zeros\n",
      "  warnings.warn(\n",
      "/usr/lib/python3.10/site-packages/sklearn/preprocessing/_encoders.py:182: UserWarning: Found unknown categories in columns [0] during transform. These unknown categories will be encoded as all zeros\n",
      "  warnings.warn(\n",
      "/usr/lib/python3.10/site-packages/sklearn/preprocessing/_encoders.py:182: UserWarning: Found unknown categories in columns [0] during transform. These unknown categories will be encoded as all zeros\n",
      "  warnings.warn(\n",
      "/usr/lib/python3.10/site-packages/sklearn/preprocessing/_encoders.py:182: UserWarning: Found unknown categories in columns [0] during transform. These unknown categories will be encoded as all zeros\n",
      "  warnings.warn(\n",
      "/usr/lib/python3.10/site-packages/sklearn/preprocessing/_encoders.py:182: UserWarning: Found unknown categories in columns [0] during transform. These unknown categories will be encoded as all zeros\n",
      "  warnings.warn(\n"
     ]
    },
    {
     "name": "stdout",
     "output_type": "stream",
     "text": [
      "Subtheme: Target = 27.425683648526313\n"
     ]
    }
   ],
   "source": [
    "cat_feats = [ 'Set_type', 'Theme', 'Theme_group', 'Subtheme']\n",
    "for feat in cat_feats:\n",
    "    encoder  = cat_tester(feat,full_numerical_transformer,X,y)\n",
    "    print(feat + ': ' +encoder[0] + ' = ' + str(encoder[1]))"
   ]
  },
  {
   "cell_type": "markdown",
   "id": "900797bd",
   "metadata": {},
   "source": [
    "The RMSE for no categorical data was  27.968616471809487\n",
    "The values that just include the the numerical data and a given categorical feature, for the \"best\" encoding types are given as:\n",
    "\n",
    "Set_type: Target = 27.967237473854993\n",
    "Theme: OneHot = 23.396881822698045\n",
    "Theme_group: OneHot = 25.030535205849837\n",
    "Subtheme: Target = 27.425683648526313\n",
    "\n",
    "This shows that including each of these improves on the RMSE"
   ]
  },
  {
   "cell_type": "markdown",
   "id": "e6064a8a",
   "metadata": {},
   "source": [
    "The below run specifies our new best model (this actually excludes subtheme from the model)."
   ]
  },
  {
   "cell_type": "code",
   "execution_count": 78,
   "id": "3d8a40fa",
   "metadata": {},
   "outputs": [
    {
     "name": "stderr",
     "output_type": "stream",
     "text": [
      "/usr/lib/python3.10/site-packages/sklearn/preprocessing/_encoders.py:182: UserWarning: Found unknown categories in columns [1] during transform. These unknown categories will be encoded as all zeros\n",
      "  warnings.warn(\n",
      "/usr/lib/python3.10/site-packages/sklearn/preprocessing/_encoders.py:182: UserWarning: Found unknown categories in columns [1] during transform. These unknown categories will be encoded as all zeros\n",
      "  warnings.warn(\n",
      "/usr/lib/python3.10/site-packages/sklearn/preprocessing/_encoders.py:182: UserWarning: Found unknown categories in columns [1] during transform. These unknown categories will be encoded as all zeros\n",
      "  warnings.warn(\n",
      "/usr/lib/python3.10/site-packages/sklearn/preprocessing/_encoders.py:182: UserWarning: Found unknown categories in columns [1] during transform. These unknown categories will be encoded as all zeros\n",
      "  warnings.warn(\n",
      "/usr/lib/python3.10/site-packages/sklearn/preprocessing/_encoders.py:182: UserWarning: Found unknown categories in columns [1] during transform. These unknown categories will be encoded as all zeros\n",
      "  warnings.warn(\n"
     ]
    },
    {
     "data": {
      "text/plain": [
       "23.15407273148164"
      ]
     },
     "execution_count": 78,
     "metadata": {},
     "output_type": "execute_result"
    }
   ],
   "source": [
    "#Best Run\n",
    "OH_categorical_transformer = Pipeline(steps=[\n",
    "    ('onehot', OneHotEncoder(handle_unknown='ignore', drop = 'first'))\n",
    "    \n",
    "])\n",
    "\n",
    "TAR_categorical_transformer = Pipeline(steps=[\n",
    "    ('Target', ce.TargetEncoder())\n",
    "    \n",
    "])\n",
    "BI_categorical_transformer = Pipeline(steps=[\n",
    "    ('Binary', BinaryEncoder(return_df=True))\n",
    "    \n",
    "])\n",
    "\n",
    "\n",
    "preprocessor = ColumnTransformer(\n",
    "    transformers=[('num', numerical_transformer, ['Pieces','Minifigs','Year_released']),\n",
    "       #           ('BI_cat', BI_categorical_transformer, ['Set_type']),\n",
    "                  ('TAR_cat', TAR_categorical_transformer, ['Subtheme','Set_type']),\n",
    "                  ('OH_cat', OH_categorical_transformer, ['Theme_group', 'Theme'])\n",
    "    ],\n",
    "    remainder = 'drop'\n",
    ")\n",
    "\n",
    "linear_model(preprocessor,X,y)  "
   ]
  },
  {
   "cell_type": "markdown",
   "id": "1289e5ca",
   "metadata": {},
   "source": [
    "Now let's run a prediction on the validation set, training on the full trianing data"
   ]
  },
  {
   "cell_type": "code",
   "execution_count": 89,
   "id": "a54884ee",
   "metadata": {},
   "outputs": [
    {
     "data": {
      "text/plain": [
       "19.049360526801557"
      ]
     },
     "execution_count": 89,
     "metadata": {},
     "output_type": "execute_result"
    }
   ],
   "source": [
    "my_pipeline = Pipeline(steps=[('preprocessor', preprocessor),\n",
    "                              ('model', LinearRegression(fit_intercept=True))\n",
    "                             ])\n",
    "my_pipeline.fit(X, y)\n",
    "y_preds = my_pipeline.predict(X_val)\n",
    "np.sqrt(mean_squared_error(y_val, y_preds))"
   ]
  },
  {
   "cell_type": "markdown",
   "id": "6acac238",
   "metadata": {},
   "source": [
    "Not a bad result, my nex"
   ]
  }
 ],
 "metadata": {
  "kernelspec": {
   "display_name": "Python 3 (ipykernel)",
   "language": "python",
   "name": "python3"
  },
  "language_info": {
   "codemirror_mode": {
    "name": "ipython",
    "version": 3
   },
   "file_extension": ".py",
   "mimetype": "text/x-python",
   "name": "python",
   "nbconvert_exporter": "python",
   "pygments_lexer": "ipython3",
   "version": "3.10.9"
  }
 },
 "nbformat": 4,
 "nbformat_minor": 5
}
